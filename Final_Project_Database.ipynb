{
  "nbformat": 4,
  "nbformat_minor": 0,
  "metadata": {
    "colab": {
      "name": "Final_Project.ipynb",
      "provenance": []
    },
    "kernelspec": {
      "name": "python3",
      "display_name": "Python 3"
    },
    "language_info": {
      "name": "python"
    }
  },
  "cells": [
    {
      "cell_type": "code",
      "metadata": {
        "id": "fu_spH2yHqnm",
        "colab": {
          "base_uri": "https://localhost:8080/"
        },
        "outputId": "3110a0cb-2d1c-4ba2-e5b0-88818e7e3419"
      },
      "source": [
        "import os\n",
        "# Find the latest version of spark 3.0  from http://www-us.apache.org/dist/spark/ and enter as the spark version\n",
        "# For example:\n",
        "# spark_version = 'spark-3.0.2'\n",
        "spark_version = 'spark-3.1.2'\n",
        "os.environ['SPARK_VERSION']=spark_version\n",
        "\n",
        "# Install Spark and Java\n",
        "!apt-get update\n",
        "!apt-get install openjdk-11-jdk-headless -qq > /dev/null\n",
        "!wget -q http://www-us.apache.org/dist/spark/$SPARK_VERSION/$SPARK_VERSION-bin-hadoop2.7.tgz\n",
        "!tar xf $SPARK_VERSION-bin-hadoop2.7.tgz\n",
        "!pip install -q findspark\n",
        "\n",
        "# Set Environment Variables\n",
        "import os\n",
        "os.environ[\"JAVA_HOME\"] = \"/usr/lib/jvm/java-11-openjdk-amd64\"\n",
        "os.environ[\"SPARK_HOME\"] = f\"/content/{spark_version}-bin-hadoop2.7\"\n",
        "\n",
        "# Start a SparkSession\n",
        "import findspark\n",
        "findspark.init()"
      ],
      "execution_count": 1,
      "outputs": [
        {
          "output_type": "stream",
          "text": [
            "\r0% [Working]\r            \rGet:1 http://security.ubuntu.com/ubuntu bionic-security InRelease [88.7 kB]\n",
            "\r0% [Connecting to archive.ubuntu.com (91.189.88.152)] [1 InRelease 0 B/88.7 kB \r0% [Connecting to archive.ubuntu.com (91.189.88.152)] [Connected to cloud.r-pro\r                                                                               \rGet:2 https://cloud.r-project.org/bin/linux/ubuntu bionic-cran40/ InRelease [3,626 B]\n",
            "Ign:3 https://developer.download.nvidia.com/compute/cuda/repos/ubuntu1804/x86_64  InRelease\n",
            "Get:4 http://ppa.launchpad.net/c2d4u.team/c2d4u4.0+/ubuntu bionic InRelease [15.9 kB]\n",
            "Hit:5 http://archive.ubuntu.com/ubuntu bionic InRelease\n",
            "Ign:6 https://developer.download.nvidia.com/compute/machine-learning/repos/ubuntu1804/x86_64  InRelease\n",
            "Get:7 https://developer.download.nvidia.com/compute/cuda/repos/ubuntu1804/x86_64  Release [697 B]\n",
            "Hit:8 https://developer.download.nvidia.com/compute/machine-learning/repos/ubuntu1804/x86_64  Release\n",
            "Get:9 https://developer.download.nvidia.com/compute/cuda/repos/ubuntu1804/x86_64  Release.gpg [836 B]\n",
            "Get:10 http://archive.ubuntu.com/ubuntu bionic-updates InRelease [88.7 kB]\n",
            "Hit:11 http://ppa.launchpad.net/cran/libgit2/ubuntu bionic InRelease\n",
            "Get:12 http://security.ubuntu.com/ubuntu bionic-security/restricted amd64 Packages [473 kB]\n",
            "Get:13 http://security.ubuntu.com/ubuntu bionic-security/main amd64 Packages [2,221 kB]\n",
            "Get:14 http://archive.ubuntu.com/ubuntu bionic-backports InRelease [74.6 kB]\n",
            "Get:15 http://ppa.launchpad.net/deadsnakes/ppa/ubuntu bionic InRelease [15.9 kB]\n",
            "Get:16 http://security.ubuntu.com/ubuntu bionic-security/universe amd64 Packages [1,418 kB]\n",
            "Get:17 http://ppa.launchpad.net/graphics-drivers/ppa/ubuntu bionic InRelease [21.3 kB]\n",
            "Get:19 http://ppa.launchpad.net/c2d4u.team/c2d4u4.0+/ubuntu bionic/main Sources [1,778 kB]\n",
            "Ign:20 https://developer.download.nvidia.com/compute/cuda/repos/ubuntu1804/x86_64  Packages\n",
            "Get:20 https://developer.download.nvidia.com/compute/cuda/repos/ubuntu1804/x86_64  Packages [634 kB]\n",
            "Get:21 http://ppa.launchpad.net/c2d4u.team/c2d4u4.0+/ubuntu bionic/main amd64 Packages [910 kB]\n",
            "Get:22 http://archive.ubuntu.com/ubuntu bionic-updates/main amd64 Packages [2,657 kB]\n",
            "Get:23 http://archive.ubuntu.com/ubuntu bionic-updates/universe amd64 Packages [2,188 kB]\n",
            "Get:24 http://archive.ubuntu.com/ubuntu bionic-updates/restricted amd64 Packages [506 kB]\n",
            "Get:25 http://ppa.launchpad.net/deadsnakes/ppa/ubuntu bionic/main amd64 Packages [40.8 kB]\n",
            "Get:26 http://ppa.launchpad.net/graphics-drivers/ppa/ubuntu bionic/main amd64 Packages [41.5 kB]\n",
            "Fetched 13.2 MB in 4s (3,603 kB/s)\n",
            "Reading package lists... Done\n"
          ],
          "name": "stdout"
        }
      ]
    },
    {
      "cell_type": "code",
      "metadata": {
        "id": "CMvkqcxJHxEU",
        "colab": {
          "base_uri": "https://localhost:8080/"
        },
        "outputId": "e04a0746-af0f-45ee-dd91-c1d773e53d6e"
      },
      "source": [
        "# Download the Postgres driver that will allow Spark to interact with Postgres.\n",
        "!wget https://jdbc.postgresql.org/download/postgresql-42.2.16.jar"
      ],
      "execution_count": 2,
      "outputs": [
        {
          "output_type": "stream",
          "text": [
            "--2021-07-04 00:07:23--  https://jdbc.postgresql.org/download/postgresql-42.2.16.jar\n",
            "Resolving jdbc.postgresql.org (jdbc.postgresql.org)... 72.32.157.228, 2001:4800:3e1:1::228\n",
            "Connecting to jdbc.postgresql.org (jdbc.postgresql.org)|72.32.157.228|:443... connected.\n",
            "HTTP request sent, awaiting response... 200 OK\n",
            "Length: 1002883 (979K) [application/java-archive]\n",
            "Saving to: ‘postgresql-42.2.16.jar’\n",
            "\n",
            "postgresql-42.2.16. 100%[===================>] 979.38K  5.66MB/s    in 0.2s    \n",
            "\n",
            "2021-07-04 00:07:23 (5.66 MB/s) - ‘postgresql-42.2.16.jar’ saved [1002883/1002883]\n",
            "\n"
          ],
          "name": "stdout"
        }
      ]
    },
    {
      "cell_type": "code",
      "metadata": {
        "id": "Kkl5UyP0H04M"
      },
      "source": [
        "from pyspark.sql import SparkSession\n",
        "spark = SparkSession.builder.appName(\"BigData-Challenge\").config(\"spark.driver.extraClassPath\",\"/content/postgresql-42.2.16.jar\").getOrCreate()"
      ],
      "execution_count": 3,
      "outputs": []
    },
    {
      "cell_type": "code",
      "metadata": {
        "id": "WZj7zqvFH5HJ",
        "colab": {
          "base_uri": "https://localhost:8080/"
        },
        "outputId": "1f1e487d-b6b8-45c9-8480-550e04b017df"
      },
      "source": [
        "# May 2018 citibike data\n",
        "from pyspark import SparkFiles\n",
        "url = \"https://bootcamp-citibike-bucket.s3.amazonaws.com/NYC/May2018.csv\"\n",
        "spark.sparkContext.addFile(url)\n",
        "df2018 = spark.read.options(header=True, inferSchema=True).csv(SparkFiles.get(\"May2018.csv\"))\n",
        "df2018.show()"
      ],
      "execution_count": 4,
      "outputs": [
        {
          "output_type": "stream",
          "text": [
            "+------------+--------------------+--------------------+----------------+------------------+----------------------+-----------------------+--------------+--------------------+--------------------+---------------------+------+----------+----------+------+\n",
            "|tripduration|           starttime|            stoptime|start station id|start station name|start station latitude|start station longitude|end station id|    end station name|end station latitude|end station longitude|bikeid|  usertype|birth year|gender|\n",
            "+------------+--------------------+--------------------+----------------+------------------+----------------------+-----------------------+--------------+--------------------+--------------------+---------------------+------+----------+----------+------+\n",
            "|         367|2018-05-01 05:06:...|2018-05-01 05:12:...|              72|  W 52 St & 11 Ave|           40.76727216|           -73.99392888|           514|    12 Ave & W 40 St|         40.76087502|         -74.00277668| 30567|Subscriber|      1965|     1|\n",
            "|        1313|2018-05-01 06:25:...|2018-05-01 06:47:...|              72|  W 52 St & 11 Ave|           40.76727216|           -73.99392888|           426|West St & Chamber...|         40.71754834|         -74.01322069| 18965|Subscriber|      1956|     1|\n",
            "|        1798|2018-05-01 06:40:...|2018-05-01 07:10:...|              72|  W 52 St & 11 Ave|           40.76727216|           -73.99392888|          3435|Grand St & Elizab...|           40.718822|            -73.99596| 30241|Subscriber|      1959|     2|\n",
            "|         518|2018-05-01 07:06:...|2018-05-01 07:14:...|              72|  W 52 St & 11 Ave|           40.76727216|           -73.99392888|           477|     W 41 St & 8 Ave|         40.75640548|          -73.9900262| 28985|Subscriber|      1986|     1|\n",
            "|         109|2018-05-01 07:26:...|2018-05-01 07:28:...|              72|  W 52 St & 11 Ave|           40.76727216|           -73.99392888|           530|    11 Ave & W 59 St|           40.771522|           -73.990541| 14556|Subscriber|      1991|     1|\n",
            "|         461|2018-05-01 07:28:...|2018-05-01 07:35:...|              72|  W 52 St & 11 Ave|           40.76727216|           -73.99392888|           468|  Broadway & W 56 St|          40.7652654|         -73.98192338| 28589|Subscriber|      1991|     2|\n",
            "|        1713|2018-05-01 07:57:...|2018-05-01 08:26:...|              72|  W 52 St & 11 Ave|           40.76727216|           -73.99392888|           304|Broadway & Batter...|         40.70463334|         -74.01361706| 30483|Subscriber|      1993|     2|\n",
            "|         423|2018-05-01 07:57:...|2018-05-01 08:05:...|              72|  W 52 St & 11 Ave|           40.76727216|           -73.99392888|           525|    W 34 St & 11 Ave|         40.75594159|          -74.0021163| 30120|Subscriber|      1991|     1|\n",
            "|         978|2018-05-01 08:01:...|2018-05-01 08:17:...|              72|  W 52 St & 11 Ave|           40.76727216|           -73.99392888|          3258|    W 27 St & 10 Ave|   40.75018156325683|   -74.00218427181244| 27780|Subscriber|      1973|     2|\n",
            "|         472|2018-05-01 08:07:...|2018-05-01 08:14:...|              72|  W 52 St & 11 Ave|           40.76727216|           -73.99392888|           500|  Broadway & W 51 St|         40.76228826|         -73.98336183| 17723|Subscriber|      1983|     1|\n",
            "|         460|2018-05-01 08:08:...|2018-05-01 08:16:...|              72|  W 52 St & 11 Ave|           40.76727216|           -73.99392888|           520|     W 52 St & 5 Ave|         40.75992262|         -73.97648516| 17255|Subscriber|      1987|     1|\n",
            "|         383|2018-05-01 08:10:...|2018-05-01 08:16:...|              72|  W 52 St & 11 Ave|           40.76727216|           -73.99392888|           173|  Broadway & W 49 St|   40.76068327096592|    -73.9845272898674| 31654|Subscriber|      1987|     1|\n",
            "|        1045|2018-05-01 08:11:...|2018-05-01 08:28:...|              72|  W 52 St & 11 Ave|           40.76727216|           -73.99392888|          3224| W 13 St & Hudson St|   40.73997354103409|   -74.00513872504234| 33035|Subscriber|      1961|     1|\n",
            "|         651|2018-05-01 08:14:...|2018-05-01 08:25:...|              72|  W 52 St & 11 Ave|           40.76727216|           -73.99392888|          3235|E 41 St & Madison...|  40.752165280621966|   -73.97992193698882| 32111|Subscriber|      1956|     1|\n",
            "|         966|2018-05-01 08:18:...|2018-05-01 08:34:...|              72|  W 52 St & 11 Ave|           40.76727216|           -73.99392888|           519|Pershing Square N...|           40.751873|           -73.977706| 17789|Subscriber|      1979|     1|\n",
            "|        1429|2018-05-01 08:22:...|2018-05-01 08:46:...|              72|  W 52 St & 11 Ave|           40.76727216|           -73.99392888|           497|  E 17 St & Broadway|         40.73704984|         -73.99009296| 29725|Subscriber|      1978|     2|\n",
            "|         782|2018-05-01 08:30:...|2018-05-01 08:43:...|              72|  W 52 St & 11 Ave|           40.76727216|           -73.99392888|           484|     W 44 St & 5 Ave|         40.75500254|         -73.98014437| 18821|Subscriber|      1960|     2|\n",
            "|        1491|2018-05-01 08:30:...|2018-05-01 08:55:...|              72|  W 52 St & 11 Ave|           40.76727216|           -73.99392888|          3664|North Moore St & ...|   40.72019521437465|    -74.0103006362915| 31403|Subscriber|      1984|     1|\n",
            "|        1269|2018-05-01 08:32:...|2018-05-01 08:53:...|              72|  W 52 St & 11 Ave|           40.76727216|           -73.99392888|           496|     E 16 St & 5 Ave|         40.73726186|         -73.99238967| 25738|Subscriber|      1980|     1|\n",
            "|         585|2018-05-01 08:32:...|2018-05-01 08:42:...|              72|  W 52 St & 11 Ave|           40.76727216|           -73.99392888|           490|     8 Ave & W 33 St|           40.751551|           -73.993934| 25140|Subscriber|      1984|     1|\n",
            "+------------+--------------------+--------------------+----------------+------------------+----------------------+-----------------------+--------------+--------------------+--------------------+---------------------+------+----------+----------+------+\n",
            "only showing top 20 rows\n",
            "\n"
          ],
          "name": "stdout"
        }
      ]
    },
    {
      "cell_type": "code",
      "metadata": {
        "id": "gWYxeUelQZB5",
        "colab": {
          "base_uri": "https://localhost:8080/"
        },
        "outputId": "4aff8c78-dfd1-44ba-bc3f-7a586b5b518e"
      },
      "source": [
        "#May 2019 citibike data\n",
        "from pyspark import SparkFiles\n",
        "url = \"https://bootcamp-citibike-bucket.s3.amazonaws.com/NYC/May2019.csv\"\n",
        "spark.sparkContext.addFile(url)\n",
        "df2019 = spark.read.options(header=True, inferSchema=True).csv(SparkFiles.get(\"May2019.csv\"))\n",
        "df2019.show()"
      ],
      "execution_count": 5,
      "outputs": [
        {
          "output_type": "stream",
          "text": [
            "+------------+--------------------+--------------------+----------------+--------------------+----------------------+-----------------------+--------------+--------------------+--------------------+---------------------+------+----------+----------+------+\n",
            "|tripduration|           starttime|            stoptime|start station id|  start station name|start station latitude|start station longitude|end station id|    end station name|end station latitude|end station longitude|bikeid|  usertype|birth year|gender|\n",
            "+------------+--------------------+--------------------+----------------+--------------------+----------------------+-----------------------+--------------+--------------------+--------------------+---------------------+------+----------+----------+------+\n",
            "|         139|2019-05-01 00:00:...|2019-05-01 00:02:...|             447|     8 Ave & W 52 St|           40.76370739|            -73.9851615|           423|     W 54 St & 9 Ave|         40.76584941|         -73.98690506| 31170|Subscriber|      1983|     1|\n",
            "|         754|2019-05-01 00:00:...|2019-05-01 00:12:...|            3258|    W 27 St & 10 Ave|     40.75018156325683|     -74.00218427181244|          3255|     8 Ave & W 31 St|    40.7505853470215|    -73.9946848154068| 25560|  Customer|      1969|     0|\n",
            "|        2308|2019-05-01 00:00:...|2019-05-01 00:38:...|            3093|N 6 St & Bedford Ave|           40.71745169|           -73.95850939|          3676|Van Brunt St & Va...|    40.6758329439129|   -74.01472628116608| 33369|Subscriber|      1978|     1|\n",
            "|         143|2019-05-01 00:00:...|2019-05-01 00:02:...|            3486|Schermerhorn St &...|    40.688417427540834|     -73.98451656103134|          3412|Pacific St & Nevi...|          40.6853761|         -73.98302136| 32041|Subscriber|      1997|     1|\n",
            "|         138|2019-05-01 00:00:...|2019-05-01 00:02:...|             388|    W 26 St & 10 Ave|          40.749717753|          -74.002950346|           494|     W 26 St & 8 Ave|         40.74734825|         -73.99723551| 35237|Subscriber|      1967|     1|\n",
            "|        1598|2019-05-01 00:00:...|2019-05-01 00:27:...|             310| State St & Smith St|           40.68926942|           -73.98912867|          3322|       12 St & 4 Ave|           40.668603|          -73.9904394| 16614|  Customer|      1973|     1|\n",
            "|         514|2019-05-01 00:01:...|2019-05-01 00:09:...|             439|      E 4 St & 2 Ave|            40.7262807|           -73.98978041|           336|Sullivan St & Was...|         40.73047747|         -73.99906065| 15160|Subscriber|      1988|     1|\n",
            "|         524|2019-05-01 00:01:...|2019-05-01 00:10:...|             380|    W 4 St & 7 Ave S|           40.73401143|           -74.00293877|           439|      E 4 St & 2 Ave|          40.7262807|         -73.98978041| 16742|Subscriber|      1964|     1|\n",
            "|         415|2019-05-01 00:01:...|2019-05-01 00:08:...|            3092|   Berry St & N 8 St|            40.7190095|           -73.95852515|          3109|Banker St & Meser...|            40.72606|            -73.95621| 19973|Subscriber|      1987|     1|\n",
            "|        2733|2019-05-01 00:01:...|2019-05-01 00:47:...|            3630|Frederick Douglas...|            40.8038654|            -73.9559308|          3628|Lenox Ave & W 117 St|          40.8025566|          -73.9490782| 33792|Subscriber|      1985|     2|\n",
            "|         236|2019-05-01 00:01:...|2019-05-01 00:05:...|            3232| Bond St & Fulton St|     40.68962188790333|     -73.98304268717766|          3411| Bond St & Bergen St|          40.6849668|         -73.98620772| 34411|Subscriber|      1957|     2|\n",
            "|         754|2019-05-01 00:01:...|2019-05-01 00:14:...|             505|     6 Ave & W 33 St|           40.74901271|           -73.98848395|           483|     E 12 St & 3 Ave|         40.73223272|         -73.98889957| 14689|Subscriber|      1986|     1|\n",
            "|         536|2019-05-01 00:01:...|2019-05-01 00:10:...|             243|Fulton St & Rockw...|              40.68841|             -73.979458|           397|Fulton St & Clerm...|         40.68415748|         -73.96922273| 30962|Subscriber|      1974|     2|\n",
            "|         717|2019-05-01 00:01:...|2019-05-01 00:13:...|             237|     E 11 St & 2 Ave|           40.73047309|           -73.98672378|           432|   E 7 St & Avenue A|         40.72621788|         -73.98379855| 28640|Subscriber|      1995|     1|\n",
            "|         476|2019-05-01 00:01:...|2019-05-01 00:09:...|             167|     E 39 St & 3 Ave|            40.7489006|           -73.97604882|          2003|     1 Ave & E 18 St|  40.733812191966315|   -73.98054420948029| 25224|Subscriber|      1991|     1|\n",
            "|         398|2019-05-01 00:01:...|2019-05-01 00:08:...|             238|Bank St & Washing...|            40.7361967|           -74.00859207|           453|     W 22 St & 8 Ave|         40.74475148|         -73.99915362| 32645|Subscriber|      1995|     1|\n",
            "|         954|2019-05-01 00:02:...|2019-05-01 00:17:...|            3456|Jackson St & Leon...|     40.71638031973561|     -73.94821286201477|          3668|Leonard St & Nass...|    40.7239567849954|   -73.94984364509583| 34863|Subscriber|      1973|     1|\n",
            "|         561|2019-05-01 00:02:...|2019-05-01 00:11:...|            3420| Douglass St & 3 Ave|            40.6802133|           -73.98432695|           390|Duffield St & Wil...|         40.69221589|          -73.9842844| 30645|Subscriber|      1992|     1|\n",
            "|         293|2019-05-01 00:02:...|2019-05-01 00:07:...|            3581|Underhill Ave & L...|            40.6740123|            -73.9671457|          3584|Eastern Pkwy & Fr...|          40.6707767|          -73.9576801| 31246|Subscriber|      1987|     1|\n",
            "|        1213|2019-05-01 00:02:...|2019-05-01 00:22:...|            3687|     E 33 St & 1 Ave|     40.74322681432173|     -73.97449783980846|           259|South St & Whiteh...|         40.70122128|         -74.01234218| 29327|Subscriber|      1963|     1|\n",
            "+------------+--------------------+--------------------+----------------+--------------------+----------------------+-----------------------+--------------+--------------------+--------------------+---------------------+------+----------+----------+------+\n",
            "only showing top 20 rows\n",
            "\n"
          ],
          "name": "stdout"
        }
      ]
    },
    {
      "cell_type": "code",
      "metadata": {
        "id": "rPmzeDn1QcYf",
        "colab": {
          "base_uri": "https://localhost:8080/"
        },
        "outputId": "1047f99f-e4dd-4fb7-8b4b-8398636c6252"
      },
      "source": [
        "# May 2020 citibike data\n",
        "from pyspark import SparkFiles\n",
        "url = \"https://bootcamp-citibike-bucket.s3.amazonaws.com/NYC/May2020.csv\"\n",
        "spark.sparkContext.addFile(url)\n",
        "df2020 = spark.read.options(header=True, inferSchema=True).csv(SparkFiles.get(\"May2020.csv\"))\n",
        "df2020.show()"
      ],
      "execution_count": 6,
      "outputs": [
        {
          "output_type": "stream",
          "text": [
            "+------------+--------------------+--------------------+----------------+--------------------+----------------------+-----------------------+--------------+--------------------+--------------------+---------------------+------+----------+----------+------+\n",
            "|tripduration|           starttime|            stoptime|start station id|  start station name|start station latitude|start station longitude|end station id|    end station name|end station latitude|end station longitude|bikeid|  usertype|birth year|gender|\n",
            "+------------+--------------------+--------------------+----------------+--------------------+----------------------+-----------------------+--------------+--------------------+--------------------+---------------------+------+----------+----------+------+\n",
            "|         336|2020-05-01 00:01:...|2020-05-01 00:06:...|            2017|     E 43 St & 2 Ave|           40.75022392|           -73.97121414|           465|  Broadway & W 41 St|         40.75513557|         -73.98658032| 18015|Subscriber|      1993|     1|\n",
            "|         853|2020-05-01 00:01:...|2020-05-01 00:15:...|            3376|     E 65 St & 2 Ave|     40.76471851944339|     -73.96222069859505|           478|    11 Ave & W 41 St|         40.76030096|         -73.99884222| 35905|Subscriber|      1989|     1|\n",
            "|          78|2020-05-01 00:01:...|2020-05-01 00:02:...|             396|Lefferts Pl & Fra...|          40.680342423|         -73.9557689392|          3789|Fulton St & Irvin...|            40.68186|           -73.959432| 33350|Subscriber|      1938|     2|\n",
            "|        1185|2020-05-01 00:02:...|2020-05-01 00:22:...|            3630|Frederick Douglas...|            40.8038654|            -73.9559308|          3506|Lexington Ave & E...|          40.8013066|          -73.9398167| 43790|Subscriber|      1996|     1|\n",
            "|         272|2020-05-01 00:02:...|2020-05-01 00:07:...|            3776|Central Ave & Sta...|             40.700003|              -73.92834|          3068|Humboldt St & Var...|          40.7031724|           -73.940636| 39912|Subscriber|      1993|     1|\n",
            "|         412|2020-05-01 00:03:...|2020-05-01 00:10:...|            3041|Kingston Ave & He...|           40.67890679|           -73.94142771|          3059|Pulaski St & Marc...|          40.6933982|           -73.939877| 37769|Subscriber|      1969|     0|\n",
            "|         925|2020-05-01 00:04:...|2020-05-01 00:19:...|            3142|     1 Ave & E 62 St|            40.7612274|           -73.96094022|          3521|Lenox Ave & W 111 St|          40.7987859|             -73.9523| 37596|Subscriber|      1991|     1|\n",
            "|          75|2020-05-01 00:04:...|2020-05-01 00:06:...|             396|Lefferts Pl & Fra...|          40.680342423|         -73.9557689392|          3789|Fulton St & Irvin...|            40.68186|           -73.959432| 38981|Subscriber|      1938|     2|\n",
            "|         170|2020-05-01 00:04:...|2020-05-01 00:07:...|             396|Lefferts Pl & Fra...|          40.680342423|         -73.9557689392|           436|Hancock St & Bedf...|         40.68216564|         -73.95399026| 18688|Subscriber|      1972|     1|\n",
            "|         594|2020-05-01 00:05:...|2020-05-01 00:15:...|             504|1 Ave & E 16 St [...|           40.73221853|           -73.98165557|           307|Canal St & Rutger...|         40.71427487|         -73.98990025| 42836|Subscriber|      1992|     1|\n",
            "|         238|2020-05-01 00:05:...|2020-05-01 00:09:...|            3167|Amsterdam Ave & W...|     40.77966809007312|     -73.98093044757842|          3164|Columbus Ave & W ...|          40.7770575|         -73.97898475| 40103|Subscriber|      1958|     1|\n",
            "|         739|2020-05-01 00:06:...|2020-05-01 00:18:...|            3156|  E 72 St & York Ave|           40.76663814|           -73.95348296|          3325|     E 95 St & 3 Ave|          40.7849032|           -73.950503| 19298|Subscriber|      1992|     1|\n",
            "|         407|2020-05-01 00:07:...|2020-05-01 00:14:...|             494|     W 26 St & 8 Ave|           40.74734825|           -73.99723551|          3707|Lexington Ave & E...|           40.741459|           -73.983293| 34073|Subscriber|      1968|     2|\n",
            "|         303|2020-05-01 00:08:...|2020-05-01 00:13:...|             503|  E 20 St & Park Ave|           40.73827428|           -73.98751968|           466|     W 25 St & 6 Ave|         40.74395411|         -73.99144871| 37530|Subscriber|      1980|     1|\n",
            "|        3171|2020-05-01 00:08:...|2020-05-01 01:01:...|             380|    W 4 St & 7 Ave S|           40.73401143|           -74.00293877|          3746|   6 Ave & Broome St|  40.724308321602166|   -74.00473035871983| 40730|  Customer|      1969|     0|\n",
            "|          86|2020-05-01 00:09:...|2020-05-01 00:10:...|             396|Lefferts Pl & Fra...|          40.680342423|         -73.9557689392|          3789|Fulton St & Irvin...|            40.68186|           -73.959432| 15157|Subscriber|      1938|     2|\n",
            "|         916|2020-05-01 00:09:...|2020-05-01 00:24:...|            3101|N 12 St & Bedford...|           40.72079821|           -73.95484712|          3056|Kosciuszko St & N...|         40.69072549|         -73.95133465| 43260|Subscriber|      1991|     1|\n",
            "|        1097|2020-05-01 00:09:...|2020-05-01 00:27:...|            3287|W 87 St & West En...|             40.789622|              -73.97757|           495|    W 47 St & 10 Ave|         40.76269882|         -73.99301222| 41136|Subscriber|      1962|     1|\n",
            "|         245|2020-05-01 00:10:...|2020-05-01 00:14:...|             260|Broad St & Bridge St|           40.70365182|           -74.01167797|           363|      West Thames St|         40.70834698|         -74.01713445| 43408|Subscriber|      1956|     1|\n",
            "|         490|2020-05-01 00:10:...|2020-05-01 00:19:...|             478|    11 Ave & W 41 St|           40.76030096|           -73.99884222|           519|Pershing Square N...|           40.751873|           -73.977706| 19419|Subscriber|      1977|     1|\n",
            "+------------+--------------------+--------------------+----------------+--------------------+----------------------+-----------------------+--------------+--------------------+--------------------+---------------------+------+----------+----------+------+\n",
            "only showing top 20 rows\n",
            "\n"
          ],
          "name": "stdout"
        }
      ]
    },
    {
      "cell_type": "code",
      "metadata": {
        "id": "nJdN4BJ2Qete",
        "colab": {
          "base_uri": "https://localhost:8080/"
        },
        "outputId": "a4eca55a-420a-44ea-ef4d-65c051168548"
      },
      "source": [
        "# May 2021 citibike data\n",
        "from pyspark import SparkFiles\n",
        "url = \"https://bootcamp-citibike-bucket.s3.amazonaws.com/NYC/May2021.csv\"\n",
        "spark.sparkContext.addFile(url)\n",
        "df2021 = spark.read.options(header=True, inferSchema=True).csv(SparkFiles.get(\"May2021.csv\"))\n",
        "df2021.show()"
      ],
      "execution_count": 7,
      "outputs": [
        {
          "output_type": "stream",
          "text": [
            "+----------------+-------------+-------------------+-------------------+--------------------+----------------+--------------------+--------------+---------+----------+------------------+------------------+-------------+\n",
            "|         ride_id|rideable_type|         started_at|           ended_at|  start_station_name|start_station_id|    end_station_name|end_station_id|start_lat| start_lng|           end_lat|           end_lng|member_casual|\n",
            "+----------------+-------------+-------------------+-------------------+--------------------+----------------+--------------------+--------------+---------+----------+------------------+------------------+-------------+\n",
            "|E12103A91226099A|  docked_bike|2021-05-06 17:25:01|2021-05-06 17:45:25|  Broadway & W 60 St|         6948.11|     1 Ave & E 78 St|       7020.09|40.769155|-73.981918|       40.77140426|       -73.9535166|       member|\n",
            "|26A3DC47FE0EA3A3|  docked_bike|2021-05-13 12:48:08|2021-05-13 13:07:37|  Broadway & W 25 St|         6173.08|   E 2 St & Avenue B|       5515.02|40.742868|-73.989186|       40.72217444|      -73.98368779|       member|\n",
            "|A99F2E1D627B088F|  docked_bike|2021-05-16 08:30:13|2021-05-16 08:45:47|       46 Ave & 5 St|         6286.02|34th Ave & Vernon...|       6873.01| 40.74731| -73.95451| 40.76535380385866|-73.93986314535141|       member|\n",
            "|43E79A45997B7390|  docked_bike|2021-05-01 08:38:14|2021-05-01 08:54:27|       46 Ave & 5 St|         6286.02|34th Ave & Vernon...|       6873.01| 40.74731| -73.95451| 40.76535380385866|-73.93986314535141|       member|\n",
            "|8B3CC649F4F58816|  docked_bike|2021-05-09 08:12:31|2021-05-09 08:27:05|       46 Ave & 5 St|         6286.02|34th Ave & Vernon...|       6873.01| 40.74731| -73.95451| 40.76535380385866|-73.93986314535141|       member|\n",
            "|7101C98F057486F4|  docked_bike|2021-05-27 07:52:27|2021-05-27 08:09:01|E 123 St & Lexing...|         7636.05|     1 Ave & E 78 St|       7020.09|40.802926|  -73.9379|       40.77140426|       -73.9535166|       member|\n",
            "|32DCCD649DFF537F|  docked_bike|2021-05-10 18:45:05|2021-05-10 18:48:41|  Broadway & W 25 St|         6173.08| E 16 St & Irving Pl|       5938.11|40.742868|-73.989186|40.735367055605394|-73.98797392845154|       member|\n",
            "|DF331D3404E26CB0|  docked_bike|2021-05-19 10:23:10|2021-05-19 10:46:37|  Broadway & W 60 St|         6948.11|    E 109 St & 3 Ave|       7504.12|40.769155|-73.981918|       40.79329668|       -73.9432083|       casual|\n",
            "|B130475CFCE200AD|  docked_bike|2021-05-08 19:11:44|2021-05-08 19:16:29|  Broadway & W 25 St|         6173.08| E 16 St & Irving Pl|       5938.11|40.742868|-73.989186|40.735367055605394|-73.98797392845154|       member|\n",
            "|4A0FF8DE17F2542A|  docked_bike|2021-05-31 23:49:47|2021-05-31 23:59:41|  Broadway & W 25 St|         6173.08|   E 2 St & Avenue B|       5515.02|40.742868|-73.989186|       40.72217444|      -73.98368779|       member|\n",
            "|C345798D7617CE3B|  docked_bike|2021-05-15 12:26:54|2021-05-15 12:44:11|  Broadway & W 25 St|         6173.08|   E 2 St & Avenue B|       5515.02|40.742868|-73.989186|       40.72217444|      -73.98368779|       casual|\n",
            "|6293EA323149EE15|  docked_bike|2021-05-24 12:04:04|2021-05-24 12:11:19|     E 55 St & 2 Ave|         6650.07|     1 Ave & E 78 St|       7020.09|40.757973|-73.966033|       40.77140426|       -73.9535166|       member|\n",
            "|B67D52FEC17F335F|  docked_bike|2021-05-14 14:46:09|2021-05-14 15:14:25|  Broadway & W 25 St|         6173.08|     1 Ave & E 78 St|       7020.09|40.742868|-73.989186|       40.77140426|       -73.9535166|       casual|\n",
            "|3E255B191113C35C|  docked_bike|2021-05-25 18:55:01|2021-05-25 19:09:22|  Broadway & W 25 St|         6173.08|   E 2 St & Avenue B|       5515.02|40.742868|-73.989186|       40.72217444|      -73.98368779|       casual|\n",
            "|720BFB9180996018|  docked_bike|2021-05-06 12:15:25|2021-05-06 12:25:47|     E 55 St & 2 Ave|         6650.07|     1 Ave & E 78 St|       7020.09|40.757973|-73.966033|       40.77140426|       -73.9535166|       member|\n",
            "|115D005B1C1B7945|  docked_bike|2021-05-13 13:40:18|2021-05-13 13:49:53|     E 55 St & 2 Ave|         6650.07|     1 Ave & E 78 St|       7020.09|40.757973|-73.966033|       40.77140426|       -73.9535166|       member|\n",
            "|B6CFE9AE0749EADD|  docked_bike|2021-05-15 18:43:26|2021-05-15 18:56:38|  Broadway & W 60 St|         6948.11|     1 Ave & E 78 St|       7020.09|40.769155|-73.981918|       40.77140426|       -73.9535166|       casual|\n",
            "|8D97CFCF4B7153F4|  docked_bike|2021-05-16 11:58:57|2021-05-16 12:24:46|     E 55 St & 2 Ave|         6650.07|  Avenue C & E 18 St|       5769.04|40.757973|-73.966033|         40.730563|        -73.973984|       casual|\n",
            "|A0712A1C5FE2C02C|  docked_bike|2021-05-03 00:53:50|2021-05-03 02:30:59| Broadway & Berry St|         5164.04|Tompkins Ave & Ho...|       4850.04|40.710446|-73.965251|         40.699576|        -73.947084|       casual|\n",
            "|3F35A96205D18196|  docked_bike|2021-05-23 14:36:20|2021-05-23 15:07:09|       46 Ave & 5 St|         6286.02|Irving Ave & Jeff...|       5051.02| 40.74731| -73.95451|          40.70538|         -73.92535|       member|\n",
            "+----------------+-------------+-------------------+-------------------+--------------------+----------------+--------------------+--------------+---------+----------+------------------+------------------+-------------+\n",
            "only showing top 20 rows\n",
            "\n"
          ],
          "name": "stdout"
        }
      ]
    },
    {
      "cell_type": "code",
      "metadata": {
        "id": "QLkDhRDZQhbF",
        "colab": {
          "base_uri": "https://localhost:8080/"
        },
        "outputId": "303dce89-8f4f-4701-c4fc-f1490127ffc5"
      },
      "source": [
        "# May 2018 station data\n",
        "\n",
        "from pyspark import SparkFiles\n",
        "url = \"https://bootcamp-citibike-bucket.s3.amazonaws.com/StationDocks/StationsRawMay2018.csv\"\n",
        "spark.sparkContext.addFile(url)\n",
        "stations2018 = spark.read.options(delimiter = \"\\t\", header=True, inferSchema=True).csv(SparkFiles.get(\"StationsRawMay2018.csv\"))\n",
        "stations2018.show()"
      ],
      "execution_count": 8,
      "outputs": [
        {
          "output_type": "stream",
          "text": [
            "+-------+----------------+--------+----+------+---+-----------+-----------+---------+---------+----------+----------+----------+\n",
            "|dock_id|       dock_name|    date|hour|minute| pm|avail_bikes|avail_docks|tot_docks|     _lat|     _long|in_service|status_key|\n",
            "+-------+----------------+--------+----+------+---+-----------+-----------+---------+---------+----------+----------+----------+\n",
            "|     72|W 52 St & 11 Ave|18-05-01|   1|     4|  0|         16|         20|       39|40.767272|-73.993929|         1|         1|\n",
            "|     72|W 52 St & 11 Ave|18-05-01|   1|    36|  0|         16|         20|       39|40.767272|-73.993929|         1|         1|\n",
            "|     72|W 52 St & 11 Ave|18-05-01|   2|     7|  0|         16|         20|       39|40.767272|-73.993929|         1|         1|\n",
            "|     72|W 52 St & 11 Ave|18-05-01|   2|    38|  0|         16|         20|       39|40.767272|-73.993929|         1|         1|\n",
            "|     72|W 52 St & 11 Ave|18-05-01|   3|     9|  0|         16|         20|       39|40.767272|-73.993929|         1|         1|\n",
            "|     72|W 52 St & 11 Ave|18-05-01|   3|    41|  0|         16|         20|       39|40.767272|-73.993929|         1|         1|\n",
            "|     72|W 52 St & 11 Ave|18-05-01|   4|    13|  0|         16|         20|       39|40.767272|-73.993929|         1|         1|\n",
            "|     72|W 52 St & 11 Ave|18-05-01|   4|    44|  0|         16|         20|       39|40.767272|-73.993929|         1|         1|\n",
            "|     72|W 52 St & 11 Ave|18-05-01|   5|    16|  0|         15|         21|       39|40.767272|-73.993929|         1|         1|\n",
            "|     72|W 52 St & 11 Ave|18-05-01|   5|    50|  0|         15|         21|       39|40.767272|-73.993929|         1|         1|\n",
            "|     72|W 52 St & 11 Ave|18-05-01|   6|    23|  0|         16|         20|       39|40.767272|-73.993929|         1|         1|\n",
            "|     72|W 52 St & 11 Ave|18-05-01|   6|    58|  0|         19|         17|       39|40.767272|-73.993929|         1|         1|\n",
            "|     72|W 52 St & 11 Ave|18-05-01|   7|    35|  0|         21|         15|       39|40.767272|-73.993929|         1|         1|\n",
            "|     72|W 52 St & 11 Ave|18-05-01|   8|    11|  0|         19|         17|       39|40.767272|-73.993929|         1|         1|\n",
            "|     72|W 52 St & 11 Ave|18-05-01|   8|    48|  0|          6|         30|       39|40.767272|-73.993929|         1|         1|\n",
            "|     72|W 52 St & 11 Ave|18-05-01|   9|    24|  0|          1|         36|       39|40.767272|-73.993929|         1|         1|\n",
            "|     72|W 52 St & 11 Ave|18-05-01|  10|     1|  0|          0|         37|       39|40.767272|-73.993929|         1|         1|\n",
            "|     72|W 52 St & 11 Ave|18-05-01|  10|    36|  0|          4|         32|       39|40.767272|-73.993929|         1|         1|\n",
            "|     72|W 52 St & 11 Ave|18-05-01|  11|    11|  0|          5|         31|       39|40.767272|-73.993929|         1|         1|\n",
            "|     72|W 52 St & 11 Ave|18-05-01|  11|    46|  0|          3|         34|       39|40.767272|-73.993929|         1|         1|\n",
            "+-------+----------------+--------+----+------+---+-----------+-----------+---------+---------+----------+----------+----------+\n",
            "only showing top 20 rows\n",
            "\n"
          ],
          "name": "stdout"
        }
      ]
    },
    {
      "cell_type": "code",
      "metadata": {
        "id": "iGYStuiIQjj8",
        "colab": {
          "base_uri": "https://localhost:8080/"
        },
        "outputId": "9d0907ae-ba48-48cc-915e-3fb0e129820f"
      },
      "source": [
        "# April 2019 station data\n",
        "\n",
        "from pyspark import SparkFiles\n",
        "url = \"https://bootcamp-citibike-bucket.s3.amazonaws.com/StationDocks/StationsRawApril2019.csv\"\n",
        "spark.sparkContext.addFile(url)\n",
        "stations2019 = spark.read.options(delimiter = \"\\t\", header=True, inferSchema=True).csv(SparkFiles.get(\"StationsRawApril2019.csv\"))\n",
        "stations2019.show()"
      ],
      "execution_count": 9,
      "outputs": [
        {
          "output_type": "stream",
          "text": [
            "+-------+----------------+--------+----+------+---+-----------+-----------+---------+---------+----------+----------+----------+\n",
            "|dock_id|       dock_name|    date|hour|minute| pm|avail_bikes|avail_docks|tot_docks|     _lat|     _long|in_service|status_key|\n",
            "+-------+----------------+--------+----+------+---+-----------+-----------+---------+---------+----------+----------+----------+\n",
            "|     72|W 52 St & 11 Ave|19-04-02|   4|    56|  1|          6|         49|       55|40.767272|-73.993929|         1|         1|\n",
            "|     72|W 52 St & 11 Ave|19-04-02|   5|    36|  1|          1|         54|       55|40.767272|-73.993929|         1|         1|\n",
            "|     72|W 52 St & 11 Ave|19-04-02|   6|    16|  1|          4|         51|       55|40.767272|-73.993929|         1|         1|\n",
            "|     72|W 52 St & 11 Ave|19-04-02|   6|    54|  1|          3|         52|       55|40.767272|-73.993929|         1|         1|\n",
            "|     72|W 52 St & 11 Ave|19-04-02|   7|    36|  1|          7|         48|       55|40.767272|-73.993929|         1|         1|\n",
            "|     72|W 52 St & 11 Ave|19-04-02|   8|    35|  1|         14|         41|       55|40.767272|-73.993929|         1|         1|\n",
            "|     72|W 52 St & 11 Ave|19-04-02|   9|    28|  1|         15|         40|       55|40.767272|-73.993929|         1|         1|\n",
            "|     72|W 52 St & 11 Ave|19-04-02|  10|    12|  1|         18|         37|       55|40.767272|-73.993929|         1|         1|\n",
            "|     72|W 52 St & 11 Ave|19-04-02|  10|    54|  1|         16|         39|       55|40.767272|-73.993929|         1|         1|\n",
            "|     72|W 52 St & 11 Ave|19-04-02|  11|    35|  1|         16|         39|       55|40.767272|-73.993929|         1|         1|\n",
            "|     72|W 52 St & 11 Ave|19-04-03|   1|    11|  0|         17|         38|       55|40.767272|-73.993929|         1|         1|\n",
            "|     72|W 52 St & 11 Ave|19-04-03|   1|    52|  0|         17|         38|       55|40.767272|-73.993929|         1|         1|\n",
            "|     72|W 52 St & 11 Ave|19-04-03|   2|    37|  0|         17|         38|       55|40.767272|-73.993929|         1|         1|\n",
            "|     72|W 52 St & 11 Ave|19-04-03|   3|    17|  0|         17|         38|       55|40.767272|-73.993929|         1|         1|\n",
            "|     72|W 52 St & 11 Ave|19-04-03|   4|     1|  0|         17|         38|       55|40.767272|-73.993929|         1|         1|\n",
            "|     72|W 52 St & 11 Ave|19-04-03|   4|    43|  0|         17|         38|       55|40.767272|-73.993929|         1|         1|\n",
            "|     72|W 52 St & 11 Ave|19-04-03|   5|    27|  0|         17|         38|       55|40.767272|-73.993929|         1|         1|\n",
            "|     72|W 52 St & 11 Ave|19-04-03|   6|    20|  0|         19|         36|       55|40.767272|-73.993929|         1|         1|\n",
            "|     72|W 52 St & 11 Ave|19-04-03|   7|     7|  0|         17|         38|       55|40.767272|-73.993929|         1|         1|\n",
            "|     72|W 52 St & 11 Ave|19-04-03|   7|    56|  0|         20|         34|       55|40.767272|-73.993929|         1|         1|\n",
            "+-------+----------------+--------+----+------+---+-----------+-----------+---------+---------+----------+----------+----------+\n",
            "only showing top 20 rows\n",
            "\n"
          ],
          "name": "stdout"
        }
      ]
    },
    {
      "cell_type": "code",
      "metadata": {
        "colab": {
          "base_uri": "https://localhost:8080/"
        },
        "id": "wJ9RHxS8X7gA",
        "outputId": "9a7163ce-0dc8-4dd8-f118-bf1ffc797f96"
      },
      "source": [
        "stations2019.dtypes"
      ],
      "execution_count": 10,
      "outputs": [
        {
          "output_type": "execute_result",
          "data": {
            "text/plain": [
              "[('dock_id', 'int'),\n",
              " ('dock_name', 'string'),\n",
              " ('date', 'string'),\n",
              " ('hour', 'int'),\n",
              " ('minute', 'int'),\n",
              " ('pm', 'int'),\n",
              " ('avail_bikes', 'int'),\n",
              " ('avail_docks', 'int'),\n",
              " ('tot_docks', 'int'),\n",
              " ('_lat', 'double'),\n",
              " ('_long', 'double'),\n",
              " ('in_service', 'int'),\n",
              " ('status_key', 'int')]"
            ]
          },
          "metadata": {
            "tags": []
          },
          "execution_count": 10
        }
      ]
    },
    {
      "cell_type": "code",
      "metadata": {
        "id": "dl_5CqcuVa0b"
      },
      "source": [
        "# Configure settings for RDS\n",
        "mode = \"append\"\n",
        "jdbc_url=\"jdbc:postgresql://citibike-analysis.cbk1sw5fz5td.us-east-1.rds.amazonaws.com:5432/project\"\n",
        "config = {\"user\":\"postgres\", \n",
        "          \"password\": \"postgres\", \n",
        "          \"driver\":\"org.postgresql.Driver\"}"
      ],
      "execution_count": 11,
      "outputs": []
    },
    {
      "cell_type": "code",
      "metadata": {
        "id": "1ruNMNR1soo5"
      },
      "source": [
        "# Write may2018 to table in RDS\n",
        "df2018.write.jdbc(url=jdbc_url, table='may2018', mode=mode, properties=config)"
      ],
      "execution_count": null,
      "outputs": []
    },
    {
      "cell_type": "code",
      "metadata": {
        "id": "DWiEjaSB1Zbz"
      },
      "source": [
        "# Write may2019 to table in RDS\n",
        "df2019.write.jdbc(url=jdbc_url, table='may2019', mode=mode, properties=config)"
      ],
      "execution_count": 12,
      "outputs": []
    },
    {
      "cell_type": "code",
      "metadata": {
        "id": "lHebqKjN1ZlX"
      },
      "source": [
        "# Write may2020 to table in RDS\n",
        "df2020.write.jdbc(url=jdbc_url, table='may2020', mode=mode, properties=config)"
      ],
      "execution_count": 13,
      "outputs": []
    },
    {
      "cell_type": "code",
      "metadata": {
        "id": "0jny91UD1ZuH"
      },
      "source": [
        "# Write may2021 to table in RDS\n",
        "df2021.write.jdbc(url=jdbc_url, table='may2021', mode=mode, properties=config)"
      ],
      "execution_count": 17,
      "outputs": []
    },
    {
      "cell_type": "code",
      "metadata": {
        "id": "YDnrjPUX2s2T"
      },
      "source": [
        "# Write stations2018 to table in RDS\n",
        "stations2018.write.jdbc(url=jdbc_url, table='stations2018', mode=mode, properties=config)"
      ],
      "execution_count": 15,
      "outputs": []
    },
    {
      "cell_type": "code",
      "metadata": {
        "id": "iNmQZWYa2s_o"
      },
      "source": [
        "# Write stations2019 to table in RDS\n",
        "stations2019.write.jdbc(url=jdbc_url, table='stations2019', mode=mode, properties=config)"
      ],
      "execution_count": 16,
      "outputs": []
    }
  ]
}