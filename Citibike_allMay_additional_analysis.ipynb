{
  "nbformat": 4,
  "nbformat_minor": 0,
  "metadata": {
    "colab": {
      "name": "Citi_allMay_additional_analysis.ipynb",
      "provenance": [],
      "collapsed_sections": []
    },
    "kernelspec": {
      "name": "python3",
      "display_name": "Python 3"
    },
    "language_info": {
      "name": "python"
    }
  },
  "cells": [
    {
      "cell_type": "code",
      "metadata": {
        "colab": {
          "base_uri": "https://localhost:8080/"
        },
        "id": "OGnzevl-OAbd",
        "outputId": "ec47d228-30db-4c34-c007-e41412e80f88"
      },
      "source": [
        "import os\n",
        "import pandas as pd\n",
        "# Find the latest version of spark 3.0  from http://www-us.apache.org/dist/spark/ and enter as the spark version\n",
        "# For example:\n",
        "# spark_version = 'spark-3.0.2'\n",
        "spark_version = 'spark-3.1.2'\n",
        "os.environ['SPARK_VERSION']=spark_version\n",
        "\n",
        "# Install Spark and Java\n",
        "!apt-get update\n",
        "!apt-get install openjdk-11-jdk-headless -qq > /dev/null\n",
        "!wget -q http://www-us.apache.org/dist/spark/$SPARK_VERSION/$SPARK_VERSION-bin-hadoop2.7.tgz\n",
        "!tar xf $SPARK_VERSION-bin-hadoop2.7.tgz\n",
        "!pip install -q findspark\n",
        "\n",
        "# Set Environment Variables\n",
        "import os\n",
        "os.environ[\"JAVA_HOME\"] = \"/usr/lib/jvm/java-11-openjdk-amd64\"\n",
        "os.environ[\"SPARK_HOME\"] = f\"/content/{spark_version}-bin-hadoop2.7\"\n",
        "\n",
        "# Start a SparkSession\n",
        "import findspark\n",
        "findspark.init()"
      ],
      "execution_count": 22,
      "outputs": [
        {
          "output_type": "stream",
          "text": [
            "\r0% [Working]\r            \rGet:1 http://security.ubuntu.com/ubuntu bionic-security InRelease [88.7 kB]\n",
            "Hit:2 https://cloud.r-project.org/bin/linux/ubuntu bionic-cran40/ InRelease\n",
            "Ign:3 https://developer.download.nvidia.com/compute/cuda/repos/ubuntu1804/x86_64  InRelease\n",
            "Get:4 http://ppa.launchpad.net/c2d4u.team/c2d4u4.0+/ubuntu bionic InRelease [15.9 kB]\n",
            "Ign:5 https://developer.download.nvidia.com/compute/machine-learning/repos/ubuntu1804/x86_64  InRelease\n",
            "Hit:6 https://developer.download.nvidia.com/compute/cuda/repos/ubuntu1804/x86_64  Release\n",
            "Hit:7 http://archive.ubuntu.com/ubuntu bionic InRelease\n",
            "Hit:8 https://developer.download.nvidia.com/compute/machine-learning/repos/ubuntu1804/x86_64  Release\n",
            "Get:9 http://archive.ubuntu.com/ubuntu bionic-updates InRelease [88.7 kB]\n",
            "Hit:10 http://ppa.launchpad.net/cran/libgit2/ubuntu bionic InRelease\n",
            "Hit:11 http://ppa.launchpad.net/deadsnakes/ppa/ubuntu bionic InRelease\n",
            "Get:12 http://archive.ubuntu.com/ubuntu bionic-backports InRelease [74.6 kB]\n",
            "Hit:13 http://ppa.launchpad.net/graphics-drivers/ppa/ubuntu bionic InRelease\n",
            "Get:16 http://ppa.launchpad.net/c2d4u.team/c2d4u4.0+/ubuntu bionic/main Sources [1,782 kB]\n",
            "Get:17 http://ppa.launchpad.net/c2d4u.team/c2d4u4.0+/ubuntu bionic/main amd64 Packages [912 kB]\n",
            "Fetched 2,962 kB in 3s (857 kB/s)\n",
            "Reading package lists... Done\n"
          ],
          "name": "stdout"
        }
      ]
    },
    {
      "cell_type": "code",
      "metadata": {
        "colab": {
          "base_uri": "https://localhost:8080/"
        },
        "id": "4U6PNpUQQe-I",
        "outputId": "e6f19c96-3871-4562-b073-f59e93bbdc74"
      },
      "source": [
        "!wget https://jdbc.postgresql.org/download/postgresql-42.2.16.jar"
      ],
      "execution_count": 23,
      "outputs": [
        {
          "output_type": "stream",
          "text": [
            "--2021-07-19 00:05:10--  https://jdbc.postgresql.org/download/postgresql-42.2.16.jar\n",
            "Resolving jdbc.postgresql.org (jdbc.postgresql.org)... 72.32.157.228, 2001:4800:3e1:1::228\n",
            "Connecting to jdbc.postgresql.org (jdbc.postgresql.org)|72.32.157.228|:443... connected.\n",
            "HTTP request sent, awaiting response... 200 OK\n",
            "Length: 1002883 (979K) [application/java-archive]\n",
            "Saving to: ‘postgresql-42.2.16.jar.1’\n",
            "\n",
            "postgresql-42.2.16. 100%[===================>] 979.38K  --.-KB/s    in 0.08s   \n",
            "\n",
            "2021-07-19 00:05:11 (11.4 MB/s) - ‘postgresql-42.2.16.jar.1’ saved [1002883/1002883]\n",
            "\n"
          ],
          "name": "stdout"
        }
      ]
    },
    {
      "cell_type": "code",
      "metadata": {
        "id": "v2eFnevbQfmT"
      },
      "source": [
        "from pyspark.sql import SparkSession\n",
        "spark = SparkSession.builder.appName(\"CloudETL\").config(\"spark.driver.extraClassPath\",\"/content/postgresql-42.2.16.jar\").getOrCreate()"
      ],
      "execution_count": 24,
      "outputs": []
    },
    {
      "cell_type": "code",
      "metadata": {
        "colab": {
          "base_uri": "https://localhost:8080/"
        },
        "id": "XM213yNXQgBs",
        "outputId": "86bd9c6d-64ca-440c-fb05-5ae6ef372028"
      },
      "source": [
        "# Preparing to read the allmay_cleaned.csv, which has been stored on Google Drive\n",
        "from google.colab import drive\n",
        "drive.mount('/content/drive')"
      ],
      "execution_count": 25,
      "outputs": [
        {
          "output_type": "stream",
          "text": [
            "Drive already mounted at /content/drive; to attempt to forcibly remount, call drive.mount(\"/content/drive\", force_remount=True).\n"
          ],
          "name": "stdout"
        }
      ]
    },
    {
      "cell_type": "code",
      "metadata": {
        "id": "IIhMSn46Q_Ry"
      },
      "source": [
        "path = \"/content/drive/MyDrive/Resources/data/allmay_cleaned.csv\"\n",
        "allmay_cleaned_df = pd.read_csv(path)\n",
        "# Dataset is now stored in a Pandas Dataframe"
      ],
      "execution_count": 26,
      "outputs": []
    },
    {
      "cell_type": "code",
      "metadata": {
        "colab": {
          "base_uri": "https://localhost:8080/",
          "height": 651
        },
        "id": "jvvgWHaCQ_qy",
        "outputId": "78d16e74-5870-4279-bfb5-628f208294f3"
      },
      "source": [
        "allmay_cleaned_df"
      ],
      "execution_count": 27,
      "outputs": [
        {
          "output_type": "execute_result",
          "data": {
            "text/html": [
              "<div>\n",
              "<style scoped>\n",
              "    .dataframe tbody tr th:only-of-type {\n",
              "        vertical-align: middle;\n",
              "    }\n",
              "\n",
              "    .dataframe tbody tr th {\n",
              "        vertical-align: top;\n",
              "    }\n",
              "\n",
              "    .dataframe thead th {\n",
              "        text-align: right;\n",
              "    }\n",
              "</style>\n",
              "<table border=\"1\" class=\"dataframe\">\n",
              "  <thead>\n",
              "    <tr style=\"text-align: right;\">\n",
              "      <th></th>\n",
              "      <th>tripduration</th>\n",
              "      <th>starttime</th>\n",
              "      <th>stoptime</th>\n",
              "      <th>start station id</th>\n",
              "      <th>start station latitude</th>\n",
              "      <th>start station longitude</th>\n",
              "      <th>end station id</th>\n",
              "      <th>end station latitude</th>\n",
              "      <th>end station longitude</th>\n",
              "      <th>bikeid</th>\n",
              "      <th>usertype</th>\n",
              "      <th>birth year</th>\n",
              "      <th>gender</th>\n",
              "    </tr>\n",
              "  </thead>\n",
              "  <tbody>\n",
              "    <tr>\n",
              "      <th>0</th>\n",
              "      <td>538</td>\n",
              "      <td>2016-05-01 00:00:03</td>\n",
              "      <td>2016-05-01 00:09:02</td>\n",
              "      <td>536</td>\n",
              "      <td>40.741444</td>\n",
              "      <td>-73.975361</td>\n",
              "      <td>497</td>\n",
              "      <td>40.737050</td>\n",
              "      <td>-73.990093</td>\n",
              "      <td>23097</td>\n",
              "      <td>1</td>\n",
              "      <td>1986.0</td>\n",
              "      <td>2</td>\n",
              "    </tr>\n",
              "    <tr>\n",
              "      <th>1</th>\n",
              "      <td>224</td>\n",
              "      <td>2016-05-01 00:00:04</td>\n",
              "      <td>2016-05-01 00:03:49</td>\n",
              "      <td>361</td>\n",
              "      <td>40.716059</td>\n",
              "      <td>-73.991908</td>\n",
              "      <td>340</td>\n",
              "      <td>40.712690</td>\n",
              "      <td>-73.987763</td>\n",
              "      <td>23631</td>\n",
              "      <td>1</td>\n",
              "      <td>1977.0</td>\n",
              "      <td>1</td>\n",
              "    </tr>\n",
              "    <tr>\n",
              "      <th>2</th>\n",
              "      <td>328</td>\n",
              "      <td>2016-05-01 00:00:14</td>\n",
              "      <td>2016-05-01 00:05:43</td>\n",
              "      <td>301</td>\n",
              "      <td>40.722174</td>\n",
              "      <td>-73.983688</td>\n",
              "      <td>311</td>\n",
              "      <td>40.717227</td>\n",
              "      <td>-73.988021</td>\n",
              "      <td>23049</td>\n",
              "      <td>1</td>\n",
              "      <td>1980.0</td>\n",
              "      <td>1</td>\n",
              "    </tr>\n",
              "    <tr>\n",
              "      <th>3</th>\n",
              "      <td>753</td>\n",
              "      <td>2016-05-01 00:00:26</td>\n",
              "      <td>2016-05-01 00:13:00</td>\n",
              "      <td>492</td>\n",
              "      <td>40.750200</td>\n",
              "      <td>-73.990931</td>\n",
              "      <td>228</td>\n",
              "      <td>40.754601</td>\n",
              "      <td>-73.971879</td>\n",
              "      <td>16437</td>\n",
              "      <td>1</td>\n",
              "      <td>1981.0</td>\n",
              "      <td>1</td>\n",
              "    </tr>\n",
              "    <tr>\n",
              "      <th>4</th>\n",
              "      <td>511</td>\n",
              "      <td>2016-05-01 00:00:33</td>\n",
              "      <td>2016-05-01 00:09:05</td>\n",
              "      <td>445</td>\n",
              "      <td>40.727408</td>\n",
              "      <td>-73.981420</td>\n",
              "      <td>537</td>\n",
              "      <td>40.740259</td>\n",
              "      <td>-73.984092</td>\n",
              "      <td>20592</td>\n",
              "      <td>1</td>\n",
              "      <td>1991.0</td>\n",
              "      <td>1</td>\n",
              "    </tr>\n",
              "    <tr>\n",
              "      <th>...</th>\n",
              "      <td>...</td>\n",
              "      <td>...</td>\n",
              "      <td>...</td>\n",
              "      <td>...</td>\n",
              "      <td>...</td>\n",
              "      <td>...</td>\n",
              "      <td>...</td>\n",
              "      <td>...</td>\n",
              "      <td>...</td>\n",
              "      <td>...</td>\n",
              "      <td>...</td>\n",
              "      <td>...</td>\n",
              "      <td>...</td>\n",
              "    </tr>\n",
              "    <tr>\n",
              "      <th>6135672</th>\n",
              "      <td>304</td>\n",
              "      <td>2019-05-31 23:59:45.576</td>\n",
              "      <td>2019-06-01 00:04:50.462</td>\n",
              "      <td>3175</td>\n",
              "      <td>40.777480</td>\n",
              "      <td>-73.982886</td>\n",
              "      <td>423</td>\n",
              "      <td>40.765849</td>\n",
              "      <td>-73.986905</td>\n",
              "      <td>32285</td>\n",
              "      <td>1</td>\n",
              "      <td>1987.0</td>\n",
              "      <td>2</td>\n",
              "    </tr>\n",
              "    <tr>\n",
              "      <th>6135673</th>\n",
              "      <td>324</td>\n",
              "      <td>2019-05-31 23:59:46.465</td>\n",
              "      <td>2019-06-01 00:05:11.163</td>\n",
              "      <td>2003</td>\n",
              "      <td>40.733812</td>\n",
              "      <td>-73.980544</td>\n",
              "      <td>536</td>\n",
              "      <td>40.741444</td>\n",
              "      <td>-73.975361</td>\n",
              "      <td>33874</td>\n",
              "      <td>1</td>\n",
              "      <td>1994.0</td>\n",
              "      <td>2</td>\n",
              "    </tr>\n",
              "    <tr>\n",
              "      <th>6135674</th>\n",
              "      <td>1926</td>\n",
              "      <td>2019-05-31 23:59:51.506</td>\n",
              "      <td>2019-06-01 00:31:58.392</td>\n",
              "      <td>146</td>\n",
              "      <td>40.716250</td>\n",
              "      <td>-74.009106</td>\n",
              "      <td>422</td>\n",
              "      <td>40.770513</td>\n",
              "      <td>-73.988038</td>\n",
              "      <td>33395</td>\n",
              "      <td>1</td>\n",
              "      <td>1985.0</td>\n",
              "      <td>1</td>\n",
              "    </tr>\n",
              "    <tr>\n",
              "      <th>6135675</th>\n",
              "      <td>2047</td>\n",
              "      <td>2019-05-31 23:59:52.417</td>\n",
              "      <td>2019-06-01 00:34:00.197</td>\n",
              "      <td>3658</td>\n",
              "      <td>40.743534</td>\n",
              "      <td>-74.003676</td>\n",
              "      <td>2008</td>\n",
              "      <td>40.705693</td>\n",
              "      <td>-74.016777</td>\n",
              "      <td>27624</td>\n",
              "      <td>1</td>\n",
              "      <td>1987.0</td>\n",
              "      <td>0</td>\n",
              "    </tr>\n",
              "    <tr>\n",
              "      <th>6135676</th>\n",
              "      <td>964</td>\n",
              "      <td>2019-05-31 23:59:55.550</td>\n",
              "      <td>2019-06-01 00:15:59.868</td>\n",
              "      <td>285</td>\n",
              "      <td>40.734546</td>\n",
              "      <td>-73.990741</td>\n",
              "      <td>3656</td>\n",
              "      <td>40.723077</td>\n",
              "      <td>-73.985836</td>\n",
              "      <td>32565</td>\n",
              "      <td>1</td>\n",
              "      <td>1992.0</td>\n",
              "      <td>2</td>\n",
              "    </tr>\n",
              "  </tbody>\n",
              "</table>\n",
              "<p>6135677 rows × 13 columns</p>\n",
              "</div>"
            ],
            "text/plain": [
              "         tripduration                starttime  ... birth year  gender\n",
              "0                 538      2016-05-01 00:00:03  ...     1986.0       2\n",
              "1                 224      2016-05-01 00:00:04  ...     1977.0       1\n",
              "2                 328      2016-05-01 00:00:14  ...     1980.0       1\n",
              "3                 753      2016-05-01 00:00:26  ...     1981.0       1\n",
              "4                 511      2016-05-01 00:00:33  ...     1991.0       1\n",
              "...               ...                      ...  ...        ...     ...\n",
              "6135672           304  2019-05-31 23:59:45.576  ...     1987.0       2\n",
              "6135673           324  2019-05-31 23:59:46.465  ...     1994.0       2\n",
              "6135674          1926  2019-05-31 23:59:51.506  ...     1985.0       1\n",
              "6135675          2047  2019-05-31 23:59:52.417  ...     1987.0       0\n",
              "6135676           964  2019-05-31 23:59:55.550  ...     1992.0       2\n",
              "\n",
              "[6135677 rows x 13 columns]"
            ]
          },
          "metadata": {
            "tags": []
          },
          "execution_count": 27
        }
      ]
    },
    {
      "cell_type": "code",
      "metadata": {
        "colab": {
          "base_uri": "https://localhost:8080/",
          "height": 651
        },
        "id": "S0wPu8mgwvuo",
        "outputId": "d7c27db6-baef-4b85-8a1e-55eea92af1be"
      },
      "source": [
        "# Exploring date - cosidering boxing data by lat./long.\n",
        "allmay_cleaned_df['Start box lat'] = allmay_cleaned_df['start station latitude'].round(3)\n",
        "allmay_cleaned_df"
      ],
      "execution_count": 28,
      "outputs": [
        {
          "output_type": "execute_result",
          "data": {
            "text/html": [
              "<div>\n",
              "<style scoped>\n",
              "    .dataframe tbody tr th:only-of-type {\n",
              "        vertical-align: middle;\n",
              "    }\n",
              "\n",
              "    .dataframe tbody tr th {\n",
              "        vertical-align: top;\n",
              "    }\n",
              "\n",
              "    .dataframe thead th {\n",
              "        text-align: right;\n",
              "    }\n",
              "</style>\n",
              "<table border=\"1\" class=\"dataframe\">\n",
              "  <thead>\n",
              "    <tr style=\"text-align: right;\">\n",
              "      <th></th>\n",
              "      <th>tripduration</th>\n",
              "      <th>starttime</th>\n",
              "      <th>stoptime</th>\n",
              "      <th>start station id</th>\n",
              "      <th>start station latitude</th>\n",
              "      <th>start station longitude</th>\n",
              "      <th>end station id</th>\n",
              "      <th>end station latitude</th>\n",
              "      <th>end station longitude</th>\n",
              "      <th>bikeid</th>\n",
              "      <th>usertype</th>\n",
              "      <th>birth year</th>\n",
              "      <th>gender</th>\n",
              "      <th>Start box lat</th>\n",
              "    </tr>\n",
              "  </thead>\n",
              "  <tbody>\n",
              "    <tr>\n",
              "      <th>0</th>\n",
              "      <td>538</td>\n",
              "      <td>2016-05-01 00:00:03</td>\n",
              "      <td>2016-05-01 00:09:02</td>\n",
              "      <td>536</td>\n",
              "      <td>40.741444</td>\n",
              "      <td>-73.975361</td>\n",
              "      <td>497</td>\n",
              "      <td>40.737050</td>\n",
              "      <td>-73.990093</td>\n",
              "      <td>23097</td>\n",
              "      <td>1</td>\n",
              "      <td>1986.0</td>\n",
              "      <td>2</td>\n",
              "      <td>40.741</td>\n",
              "    </tr>\n",
              "    <tr>\n",
              "      <th>1</th>\n",
              "      <td>224</td>\n",
              "      <td>2016-05-01 00:00:04</td>\n",
              "      <td>2016-05-01 00:03:49</td>\n",
              "      <td>361</td>\n",
              "      <td>40.716059</td>\n",
              "      <td>-73.991908</td>\n",
              "      <td>340</td>\n",
              "      <td>40.712690</td>\n",
              "      <td>-73.987763</td>\n",
              "      <td>23631</td>\n",
              "      <td>1</td>\n",
              "      <td>1977.0</td>\n",
              "      <td>1</td>\n",
              "      <td>40.716</td>\n",
              "    </tr>\n",
              "    <tr>\n",
              "      <th>2</th>\n",
              "      <td>328</td>\n",
              "      <td>2016-05-01 00:00:14</td>\n",
              "      <td>2016-05-01 00:05:43</td>\n",
              "      <td>301</td>\n",
              "      <td>40.722174</td>\n",
              "      <td>-73.983688</td>\n",
              "      <td>311</td>\n",
              "      <td>40.717227</td>\n",
              "      <td>-73.988021</td>\n",
              "      <td>23049</td>\n",
              "      <td>1</td>\n",
              "      <td>1980.0</td>\n",
              "      <td>1</td>\n",
              "      <td>40.722</td>\n",
              "    </tr>\n",
              "    <tr>\n",
              "      <th>3</th>\n",
              "      <td>753</td>\n",
              "      <td>2016-05-01 00:00:26</td>\n",
              "      <td>2016-05-01 00:13:00</td>\n",
              "      <td>492</td>\n",
              "      <td>40.750200</td>\n",
              "      <td>-73.990931</td>\n",
              "      <td>228</td>\n",
              "      <td>40.754601</td>\n",
              "      <td>-73.971879</td>\n",
              "      <td>16437</td>\n",
              "      <td>1</td>\n",
              "      <td>1981.0</td>\n",
              "      <td>1</td>\n",
              "      <td>40.750</td>\n",
              "    </tr>\n",
              "    <tr>\n",
              "      <th>4</th>\n",
              "      <td>511</td>\n",
              "      <td>2016-05-01 00:00:33</td>\n",
              "      <td>2016-05-01 00:09:05</td>\n",
              "      <td>445</td>\n",
              "      <td>40.727408</td>\n",
              "      <td>-73.981420</td>\n",
              "      <td>537</td>\n",
              "      <td>40.740259</td>\n",
              "      <td>-73.984092</td>\n",
              "      <td>20592</td>\n",
              "      <td>1</td>\n",
              "      <td>1991.0</td>\n",
              "      <td>1</td>\n",
              "      <td>40.727</td>\n",
              "    </tr>\n",
              "    <tr>\n",
              "      <th>...</th>\n",
              "      <td>...</td>\n",
              "      <td>...</td>\n",
              "      <td>...</td>\n",
              "      <td>...</td>\n",
              "      <td>...</td>\n",
              "      <td>...</td>\n",
              "      <td>...</td>\n",
              "      <td>...</td>\n",
              "      <td>...</td>\n",
              "      <td>...</td>\n",
              "      <td>...</td>\n",
              "      <td>...</td>\n",
              "      <td>...</td>\n",
              "      <td>...</td>\n",
              "    </tr>\n",
              "    <tr>\n",
              "      <th>6135672</th>\n",
              "      <td>304</td>\n",
              "      <td>2019-05-31 23:59:45.576</td>\n",
              "      <td>2019-06-01 00:04:50.462</td>\n",
              "      <td>3175</td>\n",
              "      <td>40.777480</td>\n",
              "      <td>-73.982886</td>\n",
              "      <td>423</td>\n",
              "      <td>40.765849</td>\n",
              "      <td>-73.986905</td>\n",
              "      <td>32285</td>\n",
              "      <td>1</td>\n",
              "      <td>1987.0</td>\n",
              "      <td>2</td>\n",
              "      <td>40.777</td>\n",
              "    </tr>\n",
              "    <tr>\n",
              "      <th>6135673</th>\n",
              "      <td>324</td>\n",
              "      <td>2019-05-31 23:59:46.465</td>\n",
              "      <td>2019-06-01 00:05:11.163</td>\n",
              "      <td>2003</td>\n",
              "      <td>40.733812</td>\n",
              "      <td>-73.980544</td>\n",
              "      <td>536</td>\n",
              "      <td>40.741444</td>\n",
              "      <td>-73.975361</td>\n",
              "      <td>33874</td>\n",
              "      <td>1</td>\n",
              "      <td>1994.0</td>\n",
              "      <td>2</td>\n",
              "      <td>40.734</td>\n",
              "    </tr>\n",
              "    <tr>\n",
              "      <th>6135674</th>\n",
              "      <td>1926</td>\n",
              "      <td>2019-05-31 23:59:51.506</td>\n",
              "      <td>2019-06-01 00:31:58.392</td>\n",
              "      <td>146</td>\n",
              "      <td>40.716250</td>\n",
              "      <td>-74.009106</td>\n",
              "      <td>422</td>\n",
              "      <td>40.770513</td>\n",
              "      <td>-73.988038</td>\n",
              "      <td>33395</td>\n",
              "      <td>1</td>\n",
              "      <td>1985.0</td>\n",
              "      <td>1</td>\n",
              "      <td>40.716</td>\n",
              "    </tr>\n",
              "    <tr>\n",
              "      <th>6135675</th>\n",
              "      <td>2047</td>\n",
              "      <td>2019-05-31 23:59:52.417</td>\n",
              "      <td>2019-06-01 00:34:00.197</td>\n",
              "      <td>3658</td>\n",
              "      <td>40.743534</td>\n",
              "      <td>-74.003676</td>\n",
              "      <td>2008</td>\n",
              "      <td>40.705693</td>\n",
              "      <td>-74.016777</td>\n",
              "      <td>27624</td>\n",
              "      <td>1</td>\n",
              "      <td>1987.0</td>\n",
              "      <td>0</td>\n",
              "      <td>40.744</td>\n",
              "    </tr>\n",
              "    <tr>\n",
              "      <th>6135676</th>\n",
              "      <td>964</td>\n",
              "      <td>2019-05-31 23:59:55.550</td>\n",
              "      <td>2019-06-01 00:15:59.868</td>\n",
              "      <td>285</td>\n",
              "      <td>40.734546</td>\n",
              "      <td>-73.990741</td>\n",
              "      <td>3656</td>\n",
              "      <td>40.723077</td>\n",
              "      <td>-73.985836</td>\n",
              "      <td>32565</td>\n",
              "      <td>1</td>\n",
              "      <td>1992.0</td>\n",
              "      <td>2</td>\n",
              "      <td>40.735</td>\n",
              "    </tr>\n",
              "  </tbody>\n",
              "</table>\n",
              "<p>6135677 rows × 14 columns</p>\n",
              "</div>"
            ],
            "text/plain": [
              "         tripduration                starttime  ... gender  Start box lat\n",
              "0                 538      2016-05-01 00:00:03  ...      2         40.741\n",
              "1                 224      2016-05-01 00:00:04  ...      1         40.716\n",
              "2                 328      2016-05-01 00:00:14  ...      1         40.722\n",
              "3                 753      2016-05-01 00:00:26  ...      1         40.750\n",
              "4                 511      2016-05-01 00:00:33  ...      1         40.727\n",
              "...               ...                      ...  ...    ...            ...\n",
              "6135672           304  2019-05-31 23:59:45.576  ...      2         40.777\n",
              "6135673           324  2019-05-31 23:59:46.465  ...      2         40.734\n",
              "6135674          1926  2019-05-31 23:59:51.506  ...      1         40.716\n",
              "6135675          2047  2019-05-31 23:59:52.417  ...      0         40.744\n",
              "6135676           964  2019-05-31 23:59:55.550  ...      2         40.735\n",
              "\n",
              "[6135677 rows x 14 columns]"
            ]
          },
          "metadata": {
            "tags": []
          },
          "execution_count": 28
        }
      ]
    },
    {
      "cell_type": "code",
      "metadata": {
        "colab": {
          "base_uri": "https://localhost:8080/",
          "height": 651
        },
        "id": "_UTM_69n4G-7",
        "outputId": "99cdfe56-b2ee-4661-dcc3-1d6a49da2b73"
      },
      "source": [
        "# Examine to see how many rows we have for station 422 as a start station\n",
        "# We'll do our analysis on station 422 in another NB\n",
        "allmay_cleaned_df[allmay_cleaned_df['start station id'] == 422]"
      ],
      "execution_count": 29,
      "outputs": [
        {
          "output_type": "execute_result",
          "data": {
            "text/html": [
              "<div>\n",
              "<style scoped>\n",
              "    .dataframe tbody tr th:only-of-type {\n",
              "        vertical-align: middle;\n",
              "    }\n",
              "\n",
              "    .dataframe tbody tr th {\n",
              "        vertical-align: top;\n",
              "    }\n",
              "\n",
              "    .dataframe thead th {\n",
              "        text-align: right;\n",
              "    }\n",
              "</style>\n",
              "<table border=\"1\" class=\"dataframe\">\n",
              "  <thead>\n",
              "    <tr style=\"text-align: right;\">\n",
              "      <th></th>\n",
              "      <th>tripduration</th>\n",
              "      <th>starttime</th>\n",
              "      <th>stoptime</th>\n",
              "      <th>start station id</th>\n",
              "      <th>start station latitude</th>\n",
              "      <th>start station longitude</th>\n",
              "      <th>end station id</th>\n",
              "      <th>end station latitude</th>\n",
              "      <th>end station longitude</th>\n",
              "      <th>bikeid</th>\n",
              "      <th>usertype</th>\n",
              "      <th>birth year</th>\n",
              "      <th>gender</th>\n",
              "      <th>Start box lat</th>\n",
              "    </tr>\n",
              "  </thead>\n",
              "  <tbody>\n",
              "    <tr>\n",
              "      <th>1152</th>\n",
              "      <td>1101</td>\n",
              "      <td>2016-05-01 07:23:39</td>\n",
              "      <td>2016-05-01 07:42:00</td>\n",
              "      <td>422</td>\n",
              "      <td>40.770513</td>\n",
              "      <td>-73.988038</td>\n",
              "      <td>334</td>\n",
              "      <td>40.742388</td>\n",
              "      <td>-73.997262</td>\n",
              "      <td>18764</td>\n",
              "      <td>1</td>\n",
              "      <td>1985.0</td>\n",
              "      <td>2</td>\n",
              "      <td>40.771</td>\n",
              "    </tr>\n",
              "    <tr>\n",
              "      <th>4558</th>\n",
              "      <td>177</td>\n",
              "      <td>2016-05-01 14:59:23</td>\n",
              "      <td>2016-05-01 15:02:20</td>\n",
              "      <td>422</td>\n",
              "      <td>40.770513</td>\n",
              "      <td>-73.988038</td>\n",
              "      <td>3159</td>\n",
              "      <td>40.774925</td>\n",
              "      <td>-73.982666</td>\n",
              "      <td>16841</td>\n",
              "      <td>1</td>\n",
              "      <td>1988.0</td>\n",
              "      <td>2</td>\n",
              "      <td>40.771</td>\n",
              "    </tr>\n",
              "    <tr>\n",
              "      <th>5209</th>\n",
              "      <td>550</td>\n",
              "      <td>2016-05-01 15:38:33</td>\n",
              "      <td>2016-05-01 15:47:44</td>\n",
              "      <td>422</td>\n",
              "      <td>40.770513</td>\n",
              "      <td>-73.988038</td>\n",
              "      <td>448</td>\n",
              "      <td>40.756604</td>\n",
              "      <td>-73.997901</td>\n",
              "      <td>24161</td>\n",
              "      <td>1</td>\n",
              "      <td>1996.0</td>\n",
              "      <td>1</td>\n",
              "      <td>40.771</td>\n",
              "    </tr>\n",
              "    <tr>\n",
              "      <th>5218</th>\n",
              "      <td>334</td>\n",
              "      <td>2016-05-01 15:38:51</td>\n",
              "      <td>2016-05-01 15:44:25</td>\n",
              "      <td>422</td>\n",
              "      <td>40.770513</td>\n",
              "      <td>-73.988038</td>\n",
              "      <td>3175</td>\n",
              "      <td>40.777480</td>\n",
              "      <td>-73.982886</td>\n",
              "      <td>20773</td>\n",
              "      <td>1</td>\n",
              "      <td>1983.0</td>\n",
              "      <td>1</td>\n",
              "      <td>40.771</td>\n",
              "    </tr>\n",
              "    <tr>\n",
              "      <th>5621</th>\n",
              "      <td>537</td>\n",
              "      <td>2016-05-01 16:04:26</td>\n",
              "      <td>2016-05-01 16:13:24</td>\n",
              "      <td>422</td>\n",
              "      <td>40.770513</td>\n",
              "      <td>-73.988038</td>\n",
              "      <td>529</td>\n",
              "      <td>40.757570</td>\n",
              "      <td>-73.990985</td>\n",
              "      <td>19309</td>\n",
              "      <td>1</td>\n",
              "      <td>1980.0</td>\n",
              "      <td>1</td>\n",
              "      <td>40.771</td>\n",
              "    </tr>\n",
              "    <tr>\n",
              "      <th>...</th>\n",
              "      <td>...</td>\n",
              "      <td>...</td>\n",
              "      <td>...</td>\n",
              "      <td>...</td>\n",
              "      <td>...</td>\n",
              "      <td>...</td>\n",
              "      <td>...</td>\n",
              "      <td>...</td>\n",
              "      <td>...</td>\n",
              "      <td>...</td>\n",
              "      <td>...</td>\n",
              "      <td>...</td>\n",
              "      <td>...</td>\n",
              "      <td>...</td>\n",
              "    </tr>\n",
              "    <tr>\n",
              "      <th>6130980</th>\n",
              "      <td>345</td>\n",
              "      <td>2019-05-31 21:51:37.882</td>\n",
              "      <td>2019-05-31 21:57:22.999</td>\n",
              "      <td>422</td>\n",
              "      <td>40.770513</td>\n",
              "      <td>-73.988038</td>\n",
              "      <td>3699</td>\n",
              "      <td>40.763605</td>\n",
              "      <td>-73.989180</td>\n",
              "      <td>28521</td>\n",
              "      <td>1</td>\n",
              "      <td>1979.0</td>\n",
              "      <td>1</td>\n",
              "      <td>40.771</td>\n",
              "    </tr>\n",
              "    <tr>\n",
              "      <th>6131190</th>\n",
              "      <td>1723</td>\n",
              "      <td>2019-05-31 21:57:15.160</td>\n",
              "      <td>2019-05-31 22:25:58.269</td>\n",
              "      <td>422</td>\n",
              "      <td>40.770513</td>\n",
              "      <td>-73.988038</td>\n",
              "      <td>3244</td>\n",
              "      <td>40.731437</td>\n",
              "      <td>-73.994903</td>\n",
              "      <td>28850</td>\n",
              "      <td>1</td>\n",
              "      <td>1996.0</td>\n",
              "      <td>1</td>\n",
              "      <td>40.771</td>\n",
              "    </tr>\n",
              "    <tr>\n",
              "      <th>6133420</th>\n",
              "      <td>1393</td>\n",
              "      <td>2019-05-31 22:52:23.707</td>\n",
              "      <td>2019-05-31 23:15:37.242</td>\n",
              "      <td>422</td>\n",
              "      <td>40.770513</td>\n",
              "      <td>-73.988038</td>\n",
              "      <td>412</td>\n",
              "      <td>40.715816</td>\n",
              "      <td>-73.994224</td>\n",
              "      <td>33845</td>\n",
              "      <td>1</td>\n",
              "      <td>1984.0</td>\n",
              "      <td>1</td>\n",
              "      <td>40.771</td>\n",
              "    </tr>\n",
              "    <tr>\n",
              "      <th>6135069</th>\n",
              "      <td>241</td>\n",
              "      <td>2019-05-31 23:40:29.694</td>\n",
              "      <td>2019-05-31 23:44:31.144</td>\n",
              "      <td>422</td>\n",
              "      <td>40.770513</td>\n",
              "      <td>-73.988038</td>\n",
              "      <td>3175</td>\n",
              "      <td>40.777480</td>\n",
              "      <td>-73.982886</td>\n",
              "      <td>26925</td>\n",
              "      <td>1</td>\n",
              "      <td>1975.0</td>\n",
              "      <td>1</td>\n",
              "      <td>40.771</td>\n",
              "    </tr>\n",
              "    <tr>\n",
              "      <th>6135244</th>\n",
              "      <td>715</td>\n",
              "      <td>2019-05-31 23:46:12.265</td>\n",
              "      <td>2019-05-31 23:58:07.319</td>\n",
              "      <td>422</td>\n",
              "      <td>40.770513</td>\n",
              "      <td>-73.988038</td>\n",
              "      <td>494</td>\n",
              "      <td>40.747348</td>\n",
              "      <td>-73.997236</td>\n",
              "      <td>35029</td>\n",
              "      <td>1</td>\n",
              "      <td>1960.0</td>\n",
              "      <td>1</td>\n",
              "      <td>40.771</td>\n",
              "    </tr>\n",
              "  </tbody>\n",
              "</table>\n",
              "<p>10048 rows × 14 columns</p>\n",
              "</div>"
            ],
            "text/plain": [
              "         tripduration                starttime  ... gender  Start box lat\n",
              "1152             1101      2016-05-01 07:23:39  ...      2         40.771\n",
              "4558              177      2016-05-01 14:59:23  ...      2         40.771\n",
              "5209              550      2016-05-01 15:38:33  ...      1         40.771\n",
              "5218              334      2016-05-01 15:38:51  ...      1         40.771\n",
              "5621              537      2016-05-01 16:04:26  ...      1         40.771\n",
              "...               ...                      ...  ...    ...            ...\n",
              "6130980           345  2019-05-31 21:51:37.882  ...      1         40.771\n",
              "6131190          1723  2019-05-31 21:57:15.160  ...      1         40.771\n",
              "6133420          1393  2019-05-31 22:52:23.707  ...      1         40.771\n",
              "6135069           241  2019-05-31 23:40:29.694  ...      1         40.771\n",
              "6135244           715  2019-05-31 23:46:12.265  ...      1         40.771\n",
              "\n",
              "[10048 rows x 14 columns]"
            ]
          },
          "metadata": {
            "tags": []
          },
          "execution_count": 29
        }
      ]
    },
    {
      "cell_type": "code",
      "metadata": {
        "id": "8ikgOZvMwoVb"
      },
      "source": [
        ""
      ],
      "execution_count": null,
      "outputs": []
    },
    {
      "cell_type": "markdown",
      "metadata": {
        "id": "9MrvOwYqB7W_"
      },
      "source": [
        "Additional preprocessing of allMay dataset"
      ]
    },
    {
      "cell_type": "code",
      "metadata": {
        "id": "woIg7M3M5xa3"
      },
      "source": [
        "#  Convert 'starttime' column to type datetime from object\n",
        "allmay_cleaned_df['starttime'] = pd.to_datetime(allmay_cleaned_df['starttime'])\n"
      ],
      "execution_count": 30,
      "outputs": []
    },
    {
      "cell_type": "code",
      "metadata": {
        "id": "XT0fEUCe8Uex"
      },
      "source": [
        "# Split 'starttime' column into 'year', 'month', 'day', hour' and 'minute' columns\n",
        "allmay_cleaned_df['year'] = allmay_cleaned_df['starttime'].dt.year\n",
        "allmay_cleaned_df['month'] = allmay_cleaned_df['starttime'].dt.month\n",
        "allmay_cleaned_df['day'] = allmay_cleaned_df['starttime'].dt.day\n",
        "allmay_cleaned_df['hour'] = allmay_cleaned_df['starttime'].dt.hour\n",
        "allmay_cleaned_df['minute'] = allmay_cleaned_df['starttime'].dt.minute\n"
      ],
      "execution_count": 9,
      "outputs": []
    },
    {
      "cell_type": "code",
      "metadata": {
        "id": "Jdusv4ES94MQ"
      },
      "source": [
        "# Drop the 'starttime' and 'stoptime' columns\n",
        "allmay_cleaned_df.drop(columns=['starttime'], inplace=True)\n",
        "allmay_cleaned_df.drop(columns=[\"stoptime\"], inplace=True)\n"
      ],
      "execution_count": 10,
      "outputs": []
    },
    {
      "cell_type": "code",
      "metadata": {
        "colab": {
          "base_uri": "https://localhost:8080/"
        },
        "id": "4_tc4iSG-oJN",
        "outputId": "1d9bf605-17cb-4fd3-a087-f2c3aac0ff84"
      },
      "source": [
        "# Check values in 'birth year' column\n",
        "allmay_cleaned_df['birth year'].unique()"
      ],
      "execution_count": 11,
      "outputs": [
        {
          "output_type": "execute_result",
          "data": {
            "text/plain": [
              "array([1986., 1977., 1980., 1981., 1991., 1989., 1998., 1995., 1962.,\n",
              "       1971., 1987., 1992., 1984., 1985., 1983., 1969., 1997., 1972.,\n",
              "       1994., 1966., 1967., 1965., 1990., 1978., 1975., 1982., 1970.,\n",
              "       1954., 1973., 1988., 1963., 1979., 1996., 1952., 1957., 1958.,\n",
              "       1951., 1950., 1964., 1976., 1961., 1993., 1960., 1974., 1999.,\n",
              "       1959., 1955., 1968., 1956., 1953., 1900., 1948., 1949., 1938.,\n",
              "       1945., 1936., 1946., 1944., 1941., 1947., 1932., 1940., 1937.,\n",
              "       1943., 1942., 2000., 1918., 1885., 1939., 1920., 1910., 1901.,\n",
              "       1935., 1894., 1899., 1921., 1909., 1926., 1917., 1912., 1934.,\n",
              "       1925., 1933., 1888., 1930., 1913., 1923., 2001., 1893., 1931.,\n",
              "       1927., 1886., 1895., 1915., 1896., 1907., 1928., 2002., 1890.,\n",
              "       1887., 1919., 1929., 1916., 1924., 1889., 1897., 2003., 1905.,\n",
              "       1911., 1906., 1922.])"
            ]
          },
          "metadata": {
            "tags": []
          },
          "execution_count": 11
        }
      ]
    },
    {
      "cell_type": "code",
      "metadata": {
        "id": "OXeGZSuH_OFW"
      },
      "source": [
        "# convert 'birth year' column to int from float\n",
        "allmay_cleaned_df['birth year'] = allmay_cleaned_df['birth year'].astype(int)\n"
      ],
      "execution_count": 12,
      "outputs": []
    },
    {
      "cell_type": "code",
      "metadata": {
        "colab": {
          "base_uri": "https://localhost:8080/",
          "height": 261
        },
        "id": "giK368Sk-7vF",
        "outputId": "b8e32af5-fcfa-4604-947d-541d7ca13caa"
      },
      "source": [
        "allmay_cleaned_df.head()"
      ],
      "execution_count": 13,
      "outputs": [
        {
          "output_type": "execute_result",
          "data": {
            "text/html": [
              "<div>\n",
              "<style scoped>\n",
              "    .dataframe tbody tr th:only-of-type {\n",
              "        vertical-align: middle;\n",
              "    }\n",
              "\n",
              "    .dataframe tbody tr th {\n",
              "        vertical-align: top;\n",
              "    }\n",
              "\n",
              "    .dataframe thead th {\n",
              "        text-align: right;\n",
              "    }\n",
              "</style>\n",
              "<table border=\"1\" class=\"dataframe\">\n",
              "  <thead>\n",
              "    <tr style=\"text-align: right;\">\n",
              "      <th></th>\n",
              "      <th>tripduration</th>\n",
              "      <th>start station id</th>\n",
              "      <th>start station latitude</th>\n",
              "      <th>start station longitude</th>\n",
              "      <th>end station id</th>\n",
              "      <th>end station latitude</th>\n",
              "      <th>end station longitude</th>\n",
              "      <th>bikeid</th>\n",
              "      <th>usertype</th>\n",
              "      <th>birth year</th>\n",
              "      <th>gender</th>\n",
              "      <th>year</th>\n",
              "      <th>month</th>\n",
              "      <th>day</th>\n",
              "      <th>hour</th>\n",
              "      <th>minute</th>\n",
              "    </tr>\n",
              "  </thead>\n",
              "  <tbody>\n",
              "    <tr>\n",
              "      <th>0</th>\n",
              "      <td>538</td>\n",
              "      <td>536</td>\n",
              "      <td>40.741444</td>\n",
              "      <td>-73.975361</td>\n",
              "      <td>497</td>\n",
              "      <td>40.737050</td>\n",
              "      <td>-73.990093</td>\n",
              "      <td>23097</td>\n",
              "      <td>1</td>\n",
              "      <td>1986</td>\n",
              "      <td>2</td>\n",
              "      <td>2016</td>\n",
              "      <td>5</td>\n",
              "      <td>1</td>\n",
              "      <td>0</td>\n",
              "      <td>0</td>\n",
              "    </tr>\n",
              "    <tr>\n",
              "      <th>1</th>\n",
              "      <td>224</td>\n",
              "      <td>361</td>\n",
              "      <td>40.716059</td>\n",
              "      <td>-73.991908</td>\n",
              "      <td>340</td>\n",
              "      <td>40.712690</td>\n",
              "      <td>-73.987763</td>\n",
              "      <td>23631</td>\n",
              "      <td>1</td>\n",
              "      <td>1977</td>\n",
              "      <td>1</td>\n",
              "      <td>2016</td>\n",
              "      <td>5</td>\n",
              "      <td>1</td>\n",
              "      <td>0</td>\n",
              "      <td>0</td>\n",
              "    </tr>\n",
              "    <tr>\n",
              "      <th>2</th>\n",
              "      <td>328</td>\n",
              "      <td>301</td>\n",
              "      <td>40.722174</td>\n",
              "      <td>-73.983688</td>\n",
              "      <td>311</td>\n",
              "      <td>40.717227</td>\n",
              "      <td>-73.988021</td>\n",
              "      <td>23049</td>\n",
              "      <td>1</td>\n",
              "      <td>1980</td>\n",
              "      <td>1</td>\n",
              "      <td>2016</td>\n",
              "      <td>5</td>\n",
              "      <td>1</td>\n",
              "      <td>0</td>\n",
              "      <td>0</td>\n",
              "    </tr>\n",
              "    <tr>\n",
              "      <th>3</th>\n",
              "      <td>753</td>\n",
              "      <td>492</td>\n",
              "      <td>40.750200</td>\n",
              "      <td>-73.990931</td>\n",
              "      <td>228</td>\n",
              "      <td>40.754601</td>\n",
              "      <td>-73.971879</td>\n",
              "      <td>16437</td>\n",
              "      <td>1</td>\n",
              "      <td>1981</td>\n",
              "      <td>1</td>\n",
              "      <td>2016</td>\n",
              "      <td>5</td>\n",
              "      <td>1</td>\n",
              "      <td>0</td>\n",
              "      <td>0</td>\n",
              "    </tr>\n",
              "    <tr>\n",
              "      <th>4</th>\n",
              "      <td>511</td>\n",
              "      <td>445</td>\n",
              "      <td>40.727408</td>\n",
              "      <td>-73.981420</td>\n",
              "      <td>537</td>\n",
              "      <td>40.740259</td>\n",
              "      <td>-73.984092</td>\n",
              "      <td>20592</td>\n",
              "      <td>1</td>\n",
              "      <td>1991</td>\n",
              "      <td>1</td>\n",
              "      <td>2016</td>\n",
              "      <td>5</td>\n",
              "      <td>1</td>\n",
              "      <td>0</td>\n",
              "      <td>0</td>\n",
              "    </tr>\n",
              "  </tbody>\n",
              "</table>\n",
              "</div>"
            ],
            "text/plain": [
              "   tripduration  start station id  start station latitude  ...  day  hour  minute\n",
              "0           538               536               40.741444  ...    1     0       0\n",
              "1           224               361               40.716059  ...    1     0       0\n",
              "2           328               301               40.722174  ...    1     0       0\n",
              "3           753               492               40.750200  ...    1     0       0\n",
              "4           511               445               40.727408  ...    1     0       0\n",
              "\n",
              "[5 rows x 16 columns]"
            ]
          },
          "metadata": {
            "tags": []
          },
          "execution_count": 13
        }
      ]
    },
    {
      "cell_type": "code",
      "metadata": {
        "id": "29PQd5U5AuAh"
      },
      "source": [
        "###########################\n",
        "# Machine learning\n",
        "###########################"
      ],
      "execution_count": null,
      "outputs": []
    },
    {
      "cell_type": "code",
      "metadata": {
        "id": "y_M682PXD64K"
      },
      "source": [
        "# Import ml dependencies\n",
        "from sklearn.ensemble import RandomForestClassifier\n",
        "from sklearn.preprocessing import StandardScaler\n",
        "from sklearn.model_selection import train_test_split\n",
        "from sklearn.metrics import confusion_matrix, accuracy_score, classification_report"
      ],
      "execution_count": 14,
      "outputs": []
    },
    {
      "cell_type": "code",
      "metadata": {
        "id": "eNP0yWGwFCo5"
      },
      "source": [
        "# Remove target 'usertype' from features data\n",
        "y = allmay_cleaned_df['usertype'].ravel()\n",
        "X = allmay_cleaned_df.drop(columns=[\"usertype\"])\n",
        "\n",
        "# Split training/test datasets\n",
        "X_train, X_test, y_train, y_test = train_test_split(X, y, random_state=42, stratify=y)  ##adjust train_size? \n",
        "\n",
        "# Create a StandardScaler instance\n",
        "scaler = StandardScaler()\n",
        "\n",
        "# Fit the StandardScaler\n",
        "X_scaler = scaler.fit(X_train)\n",
        "\n",
        "# Scale the data\n",
        "X_train_scaled = X_scaler.transform(X_train)\n",
        "X_test_scaled = X_scaler.transform(X_test)"
      ],
      "execution_count": 15,
      "outputs": []
    },
    {
      "cell_type": "code",
      "metadata": {
        "colab": {
          "base_uri": "https://localhost:8080/"
        },
        "id": "sI5ZU3V1GDE4",
        "outputId": "ef06373f-c1a0-48c5-b96a-ec317bf0cad2"
      },
      "source": [
        "# Create a random forest classifier.\n",
        "rf_model = RandomForestClassifier(n_estimators=40, random_state=42)\n",
        "\n",
        "# Fitting the model\n",
        "rf_model = rf_model.fit(X_train, y_train)\n",
        "\n",
        "# Evaluate the model\n",
        "y_pred = rf_model.predict(X_test)\n",
        "print(f\" Random forest predictive accuracy: {accuracy_score(y_test,y_pred):.3f}\")"
      ],
      "execution_count": null,
      "outputs": [
        {
          "output_type": "stream",
          "text": [
            " Random forest predictive accuracy: 0.958\n"
          ],
          "name": "stdout"
        }
      ]
    },
    {
      "cell_type": "code",
      "metadata": {
        "colab": {
          "base_uri": "https://localhost:8080/"
        },
        "id": "Tu3qhhmXLn22",
        "outputId": "a5b87520-e0b7-460b-fad1-a4fd2a28242b"
      },
      "source": [
        "matrix = confusion_matrix(y_test, y_pred)\n",
        "print(matrix)"
      ],
      "execution_count": null,
      "outputs": [
        {
          "output_type": "stream",
          "text": [
            "[[  87368   54475]\n",
            " [  10360 1381717]]\n"
          ],
          "name": "stdout"
        }
      ]
    },
    {
      "cell_type": "code",
      "metadata": {
        "colab": {
          "base_uri": "https://localhost:8080/"
        },
        "id": "wB8YRcRILs6V",
        "outputId": "e360f3d2-01a0-4f48-b1b7-fb1d66ac88cd"
      },
      "source": [
        "report = classification_report(y_test, y_pred)\n",
        "print(report)"
      ],
      "execution_count": null,
      "outputs": [
        {
          "output_type": "stream",
          "text": [
            "              precision    recall  f1-score   support\n",
            "\n",
            "           0       0.89      0.62      0.73    141843\n",
            "           1       0.96      0.99      0.98   1392077\n",
            "\n",
            "    accuracy                           0.96   1533920\n",
            "   macro avg       0.93      0.80      0.85   1533920\n",
            "weighted avg       0.96      0.96      0.95   1533920\n",
            "\n"
          ],
          "name": "stdout"
        }
      ]
    },
    {
      "cell_type": "code",
      "metadata": {
        "id": "hXGrv_ErPpN7"
      },
      "source": [
        ""
      ],
      "execution_count": null,
      "outputs": []
    },
    {
      "cell_type": "code",
      "metadata": {
        "id": "rkUViYIeiS1D"
      },
      "source": [
        "############\n",
        "#  Logistic Regression\n",
        "############"
      ],
      "execution_count": null,
      "outputs": []
    },
    {
      "cell_type": "code",
      "metadata": {
        "id": "Cel2d7O5iZLi"
      },
      "source": [
        "from sklearn.linear_model import LogisticRegression\n",
        "import tensorflow as tf"
      ],
      "execution_count": 16,
      "outputs": []
    },
    {
      "cell_type": "code",
      "metadata": {
        "colab": {
          "base_uri": "https://localhost:8080/"
        },
        "id": "DyC1M4HViZOx",
        "outputId": "1c475624-0a6b-489a-e285-2b71617fbd76"
      },
      "source": [
        "# Define the logistic regression model\n",
        "log_classifier = LogisticRegression(solver=\"lbfgs\",max_iter=200)\n",
        "\n",
        "# Train the model\n",
        "log_classifier.fit(X_train,y_train)\n",
        "\n",
        "# Evaluate the model\n",
        "y_pred = log_classifier.predict(X_test)\n",
        "print(f\" Logistic regression model accuracy: {accuracy_score(y_test,y_pred):.3f}\")"
      ],
      "execution_count": 17,
      "outputs": [
        {
          "output_type": "stream",
          "text": [
            "/usr/local/lib/python3.7/dist-packages/sklearn/linear_model/_logistic.py:940: ConvergenceWarning: lbfgs failed to converge (status=1):\n",
            "STOP: TOTAL NO. of ITERATIONS REACHED LIMIT.\n",
            "\n",
            "Increase the number of iterations (max_iter) or scale the data as shown in:\n",
            "    https://scikit-learn.org/stable/modules/preprocessing.html\n",
            "Please also refer to the documentation for alternative solver options:\n",
            "    https://scikit-learn.org/stable/modules/linear_model.html#logistic-regression\n",
            "  extra_warning_msg=_LOGISTIC_SOLVER_CONVERGENCE_MSG)\n"
          ],
          "name": "stderr"
        },
        {
          "output_type": "stream",
          "text": [
            " Logistic regression model accuracy: 0.909\n"
          ],
          "name": "stdout"
        }
      ]
    },
    {
      "cell_type": "code",
      "metadata": {
        "colab": {
          "base_uri": "https://localhost:8080/"
        },
        "id": "sgdGu6x3iZRD",
        "outputId": "3ea0c30f-a588-4c1f-ec55-9ea34d582038"
      },
      "source": [
        "# Prepare confusion matrix for logistic regression\n",
        "matrix = confusion_matrix(y_test, y_pred)\n",
        "print(matrix)"
      ],
      "execution_count": null,
      "outputs": [
        {
          "output_type": "stream",
          "text": [
            "[[   2621  139222]\n",
            " [   1006 1391071]]\n"
          ],
          "name": "stdout"
        }
      ]
    },
    {
      "cell_type": "code",
      "metadata": {
        "colab": {
          "base_uri": "https://localhost:8080/"
        },
        "id": "TMtW3IdJjKn3",
        "outputId": "c9dedfb0-b848-479b-a943-8c5aa402a834"
      },
      "source": [
        "# Prepare classificaiton report for logistic regression\n",
        "report = classification_report(y_test, y_pred)\n",
        "print(report)"
      ],
      "execution_count": null,
      "outputs": [
        {
          "output_type": "stream",
          "text": [
            "              precision    recall  f1-score   support\n",
            "\n",
            "           0       0.72      0.02      0.04    141843\n",
            "           1       0.91      1.00      0.95   1392077\n",
            "\n",
            "    accuracy                           0.91   1533920\n",
            "   macro avg       0.82      0.51      0.49   1533920\n",
            "weighted avg       0.89      0.91      0.87   1533920\n",
            "\n"
          ],
          "name": "stdout"
        }
      ]
    },
    {
      "cell_type": "code",
      "metadata": {
        "id": "mEW8ohrjjKrM"
      },
      "source": [
        ""
      ],
      "execution_count": null,
      "outputs": []
    },
    {
      "cell_type": "code",
      "metadata": {
        "id": "_VySuS9HjKt4"
      },
      "source": [
        "##############\n",
        "# Neural Network"
      ],
      "execution_count": null,
      "outputs": []
    },
    {
      "cell_type": "code",
      "metadata": {
        "colab": {
          "base_uri": "https://localhost:8080/"
        },
        "id": "H6CiINktScbe",
        "outputId": "91f40922-2dc6-4d54-f8af-6991018e39f5"
      },
      "source": [
        "# Define the model - deep neural net\n",
        "number_input_features = len(X_train_scaled[0])\n",
        "hidden_nodes_layer1 =  10\n",
        "hidden_nodes_layer2 = 12\n",
        "\n",
        "nn = tf.keras.models.Sequential()\n",
        "\n",
        "# First hidden layer\n",
        "nn.add(tf.keras.layers.Dense(units=hidden_nodes_layer1, input_dim=number_input_features, activation=\"relu\"))\n",
        "# Second hidden layer\n",
        "#nn.add(tf.keras.layers.Dense(units=hidden_nodes_layer2, activation=\"relu\"))\n",
        "# Output layer\n",
        "nn.add(tf.keras.layers.Dense(units=1, activation=\"sigmoid\"))\n",
        "\n",
        "# Compile the Sequential model together and customize metrics\n",
        "nn.compile(loss=\"binary_crossentropy\", optimizer=\"adam\", metrics=[\"accuracy\"])\n",
        "\n",
        "# Train the model\n",
        "fit_model = nn.fit(X_train_scaled, y_train, epochs=10)\n",
        "\n",
        "# Evaluate the model using the test data\n",
        "model_loss, model_accuracy = nn.evaluate(X_test_scaled,y_test,verbose=2)\n",
        "print(f\"Loss: {model_loss}, Accuracy: {model_accuracy}\")"
      ],
      "execution_count": 20,
      "outputs": [
        {
          "output_type": "stream",
          "text": [
            "Epoch 1/50\n",
            "143805/143805 [==============================] - 220s 2ms/step - loss: 0.1530 - accuracy: 0.9497\n",
            "Epoch 2/50\n",
            "143805/143805 [==============================] - 215s 1ms/step - loss: 0.1465 - accuracy: 0.9509\n",
            "Epoch 3/50\n",
            "143805/143805 [==============================] - 216s 1ms/step - loss: 0.1459 - accuracy: 0.9510\n",
            "Epoch 4/50\n",
            "143805/143805 [==============================] - 216s 2ms/step - loss: 0.1456 - accuracy: 0.9510\n",
            "Epoch 5/50\n",
            "143805/143805 [==============================] - 220s 2ms/step - loss: 0.1454 - accuracy: 0.9510\n",
            "Epoch 6/50\n",
            "143805/143805 [==============================] - 217s 2ms/step - loss: 0.1454 - accuracy: 0.9511\n",
            "Epoch 7/50\n",
            "143805/143805 [==============================] - 213s 1ms/step - loss: 0.1453 - accuracy: 0.9511\n",
            "Epoch 8/50\n",
            "143805/143805 [==============================] - 214s 1ms/step - loss: 0.1453 - accuracy: 0.9511\n",
            "Epoch 9/50\n",
            "143805/143805 [==============================] - 211s 1ms/step - loss: 0.1452 - accuracy: 0.9511\n",
            "Epoch 10/50\n",
            "143805/143805 [==============================] - 213s 1ms/step - loss: 0.1452 - accuracy: 0.9511\n",
            "Epoch 11/50\n",
            "143805/143805 [==============================] - 213s 1ms/step - loss: 0.1452 - accuracy: 0.9511\n",
            "Epoch 12/50\n",
            "143805/143805 [==============================] - 216s 1ms/step - loss: 0.1452 - accuracy: 0.9511\n",
            "Epoch 13/50\n",
            "143805/143805 [==============================] - 215s 1ms/step - loss: 0.1451 - accuracy: 0.9511\n",
            "Epoch 14/50\n",
            "143805/143805 [==============================] - 219s 2ms/step - loss: 0.1451 - accuracy: 0.9511\n",
            "Epoch 15/50\n",
            "143805/143805 [==============================] - 214s 1ms/step - loss: 0.1451 - accuracy: 0.9511\n",
            "Epoch 16/50\n",
            "143805/143805 [==============================] - 215s 1ms/step - loss: 0.1451 - accuracy: 0.9511\n",
            "Epoch 17/50\n",
            "143805/143805 [==============================] - 213s 1ms/step - loss: 0.1451 - accuracy: 0.9511\n",
            "Epoch 18/50\n",
            "143805/143805 [==============================] - 212s 1ms/step - loss: 0.1451 - accuracy: 0.9511\n",
            "Epoch 19/50\n",
            "143805/143805 [==============================] - 213s 1ms/step - loss: 0.1450 - accuracy: 0.9510\n",
            "Epoch 20/50\n",
            "143805/143805 [==============================] - 220s 2ms/step - loss: 0.1450 - accuracy: 0.9510\n",
            "Epoch 21/50\n",
            "143805/143805 [==============================] - 220s 2ms/step - loss: 0.1450 - accuracy: 0.9510\n",
            "Epoch 22/50\n",
            "143805/143805 [==============================] - 222s 2ms/step - loss: 0.1450 - accuracy: 0.9510\n",
            "Epoch 23/50\n",
            "143805/143805 [==============================] - 217s 2ms/step - loss: 0.1450 - accuracy: 0.9510\n",
            "Epoch 24/50\n",
            "143805/143805 [==============================] - 213s 1ms/step - loss: 0.1450 - accuracy: 0.9510\n",
            "Epoch 25/50\n",
            "143805/143805 [==============================] - 213s 1ms/step - loss: 0.1450 - accuracy: 0.9510\n",
            "Epoch 26/50\n",
            "143805/143805 [==============================] - 214s 1ms/step - loss: 0.1450 - accuracy: 0.9510\n",
            "Epoch 27/50\n",
            "143805/143805 [==============================] - 216s 2ms/step - loss: 0.1450 - accuracy: 0.9510\n",
            "Epoch 28/50\n",
            "143805/143805 [==============================] - 210s 1ms/step - loss: 0.1450 - accuracy: 0.9510\n",
            "Epoch 29/50\n",
            "143805/143805 [==============================] - 216s 1ms/step - loss: 0.1450 - accuracy: 0.9510\n",
            "Epoch 30/50\n",
            "143805/143805 [==============================] - 220s 2ms/step - loss: 0.1450 - accuracy: 0.9510\n",
            "Epoch 31/50\n",
            "143805/143805 [==============================] - 216s 2ms/step - loss: 0.1450 - accuracy: 0.9510\n",
            "Epoch 32/50\n",
            "143805/143805 [==============================] - 223s 2ms/step - loss: 0.1450 - accuracy: 0.9510\n",
            "Epoch 33/50\n",
            "143805/143805 [==============================] - 223s 2ms/step - loss: 0.1450 - accuracy: 0.9510\n",
            "Epoch 34/50\n",
            "143805/143805 [==============================] - 221s 2ms/step - loss: 0.1449 - accuracy: 0.9510\n",
            "Epoch 35/50\n",
            "143805/143805 [==============================] - 221s 2ms/step - loss: 0.1449 - accuracy: 0.9510\n",
            "Epoch 36/50\n",
            "143805/143805 [==============================] - 216s 2ms/step - loss: 0.1450 - accuracy: 0.9510\n",
            "Epoch 37/50\n",
            "143805/143805 [==============================] - 216s 2ms/step - loss: 0.1449 - accuracy: 0.9510\n",
            "Epoch 38/50\n",
            "143805/143805 [==============================] - 219s 2ms/step - loss: 0.1450 - accuracy: 0.9510\n",
            "Epoch 39/50\n",
            "143805/143805 [==============================] - 220s 2ms/step - loss: 0.1449 - accuracy: 0.9510\n",
            "Epoch 40/50\n",
            "143805/143805 [==============================] - 216s 2ms/step - loss: 0.1449 - accuracy: 0.9510\n",
            "Epoch 41/50\n",
            "143805/143805 [==============================] - 219s 2ms/step - loss: 0.1449 - accuracy: 0.9510\n",
            "Epoch 42/50\n",
            "143805/143805 [==============================] - 222s 2ms/step - loss: 0.1449 - accuracy: 0.9511\n",
            "Epoch 43/50\n",
            "143805/143805 [==============================] - 223s 2ms/step - loss: 0.1450 - accuracy: 0.9510\n",
            "Epoch 44/50\n",
            "143805/143805 [==============================] - 223s 2ms/step - loss: 0.1449 - accuracy: 0.9510\n",
            "Epoch 45/50\n",
            "143805/143805 [==============================] - 219s 2ms/step - loss: 0.1449 - accuracy: 0.9510\n",
            "Epoch 46/50\n",
            "143805/143805 [==============================] - 220s 2ms/step - loss: 0.1449 - accuracy: 0.9510\n",
            "Epoch 47/50\n",
            "143805/143805 [==============================] - 218s 2ms/step - loss: 0.1449 - accuracy: 0.9510\n",
            "Epoch 48/50\n",
            "143805/143805 [==============================] - 214s 1ms/step - loss: 0.1449 - accuracy: 0.9510\n",
            "Epoch 49/50\n",
            "143805/143805 [==============================] - 219s 2ms/step - loss: 0.1449 - accuracy: 0.9510\n",
            "Epoch 50/50\n",
            "143805/143805 [==============================] - 227s 2ms/step - loss: 0.1449 - accuracy: 0.9510\n",
            "47935/47935 - 35s - loss: 0.1454 - accuracy: 0.9510\n",
            "Loss: 0.14544300734996796, Accuracy: 0.9509720206260681\n"
          ],
          "name": "stdout"
        }
      ]
    },
    {
      "cell_type": "code",
      "metadata": {
        "id": "mQ5OlkCySjNx"
      },
      "source": [
        ""
      ],
      "execution_count": null,
      "outputs": []
    }
  ]
}