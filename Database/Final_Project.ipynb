{
  "nbformat": 4,
  "nbformat_minor": 0,
  "metadata": {
    "colab": {
      "name": "Final_Project.ipynb",
      "provenance": [],
      "collapsed_sections": []
    },
    "kernelspec": {
      "name": "python3",
      "display_name": "Python 3"
    },
    "language_info": {
      "name": "python"
    }
  },
  "cells": [
    {
      "cell_type": "code",
      "metadata": {
        "id": "fu_spH2yHqnm",
        "colab": {
          "base_uri": "https://localhost:8080/"
        },
        "outputId": "0587e20c-d8a2-4afc-bf0b-c31f6c85e799"
      },
      "source": [
        "import os\n",
        "# Find the latest version of spark 3.0  from http://www-us.apache.org/dist/spark/ and enter as the spark version\n",
        "# For example:\n",
        "# spark_version = 'spark-3.0.2'\n",
        "spark_version = 'spark-3.1.2'\n",
        "os.environ['SPARK_VERSION']=spark_version\n",
        "\n",
        "# Install Spark and Java\n",
        "!apt-get update\n",
        "!apt-get install openjdk-11-jdk-headless -qq > /dev/null\n",
        "!wget -q http://www-us.apache.org/dist/spark/$SPARK_VERSION/$SPARK_VERSION-bin-hadoop3.2.tgz\n",
        "!tar xf $SPARK_VERSION-bin-hadoop3.2.tgz\n",
        "!pip install -q findspark\n",
        "\n",
        "# Set Environment Variables\n",
        "import os\n",
        "os.environ[\"JAVA_HOME\"] = \"/usr/lib/jvm/java-11-openjdk-amd64\"\n",
        "os.environ[\"SPARK_HOME\"] = f\"/content/{spark_version}-bin-hadoop3.2\"\n",
        "\n",
        "# Start a SparkSession\n",
        "import findspark\n",
        "findspark.init()"
      ],
      "execution_count": 1,
      "outputs": [
        {
          "output_type": "stream",
          "text": [
            "\r0% [Working]\r            \rGet:1 https://cloud.r-project.org/bin/linux/ubuntu bionic-cran40/ InRelease [3,626 B]\n",
            "\r0% [Connecting to archive.ubuntu.com (91.189.88.142)] [Waiting for headers] [1 \r0% [Connecting to archive.ubuntu.com (91.189.88.142)] [Waiting for headers] [Wa\r                                                                               \rIgn:2 https://developer.download.nvidia.com/compute/cuda/repos/ubuntu1804/x86_64  InRelease\n",
            "Get:3 http://security.ubuntu.com/ubuntu bionic-security InRelease [88.7 kB]\n",
            "Ign:4 https://developer.download.nvidia.com/compute/machine-learning/repos/ubuntu1804/x86_64  InRelease\n",
            "Get:5 http://ppa.launchpad.net/c2d4u.team/c2d4u4.0+/ubuntu bionic InRelease [15.9 kB]\n",
            "Hit:6 https://developer.download.nvidia.com/compute/cuda/repos/ubuntu1804/x86_64  Release\n",
            "Hit:7 https://developer.download.nvidia.com/compute/machine-learning/repos/ubuntu1804/x86_64  Release\n",
            "Hit:8 http://archive.ubuntu.com/ubuntu bionic InRelease\n",
            "Get:9 http://archive.ubuntu.com/ubuntu bionic-updates InRelease [88.7 kB]\n",
            "Hit:10 http://ppa.launchpad.net/cran/libgit2/ubuntu bionic InRelease\n",
            "Get:11 http://archive.ubuntu.com/ubuntu bionic-backports InRelease [74.6 kB]\n",
            "Hit:12 http://ppa.launchpad.net/deadsnakes/ppa/ubuntu bionic InRelease\n",
            "Hit:14 http://ppa.launchpad.net/graphics-drivers/ppa/ubuntu bionic InRelease\n",
            "Get:15 http://security.ubuntu.com/ubuntu bionic-security/universe amd64 Packages [1,418 kB]\n",
            "Get:16 http://security.ubuntu.com/ubuntu bionic-security/main amd64 Packages [2,221 kB]\n",
            "Get:18 http://ppa.launchpad.net/c2d4u.team/c2d4u4.0+/ubuntu bionic/main Sources [1,783 kB]\n",
            "Get:19 http://archive.ubuntu.com/ubuntu bionic-updates/universe amd64 Packages [2,188 kB]\n",
            "Get:20 http://ppa.launchpad.net/c2d4u.team/c2d4u4.0+/ubuntu bionic/main amd64 Packages [912 kB]\n",
            "Get:21 http://archive.ubuntu.com/ubuntu bionic-updates/main amd64 Packages [2,658 kB]\n",
            "Fetched 11.5 MB in 3s (3,382 kB/s)\n",
            "Reading package lists... Done\n"
          ],
          "name": "stdout"
        }
      ]
    },
    {
      "cell_type": "code",
      "metadata": {
        "id": "CMvkqcxJHxEU",
        "colab": {
          "base_uri": "https://localhost:8080/"
        },
        "outputId": "e2809035-54c6-4d35-8c35-51a82a6ee01a"
      },
      "source": [
        "# Download the Postgres driver that will allow Spark to interact with Postgres.\n",
        "!wget https://jdbc.postgresql.org/download/postgresql-42.2.16.jar"
      ],
      "execution_count": 2,
      "outputs": [
        {
          "output_type": "stream",
          "text": [
            "--2021-07-19 02:39:35--  https://jdbc.postgresql.org/download/postgresql-42.2.16.jar\n",
            "Resolving jdbc.postgresql.org (jdbc.postgresql.org)... 72.32.157.228, 2001:4800:3e1:1::228\n",
            "Connecting to jdbc.postgresql.org (jdbc.postgresql.org)|72.32.157.228|:443... connected.\n",
            "HTTP request sent, awaiting response... 200 OK\n",
            "Length: 1002883 (979K) [application/java-archive]\n",
            "Saving to: ‘postgresql-42.2.16.jar’\n",
            "\n",
            "postgresql-42.2.16. 100%[===================>] 979.38K  5.64MB/s    in 0.2s    \n",
            "\n",
            "2021-07-19 02:39:36 (5.64 MB/s) - ‘postgresql-42.2.16.jar’ saved [1002883/1002883]\n",
            "\n"
          ],
          "name": "stdout"
        }
      ]
    },
    {
      "cell_type": "code",
      "metadata": {
        "id": "Kkl5UyP0H04M"
      },
      "source": [
        "from pyspark.sql import SparkSession\n",
        "spark = SparkSession.builder.appName(\"BigData-Challenge\").config(\"spark.driver.extraClassPath\",\"/content/postgresql-42.2.16.jar\").getOrCreate()"
      ],
      "execution_count": 3,
      "outputs": []
    },
    {
      "cell_type": "code",
      "metadata": {
        "colab": {
          "base_uri": "https://localhost:8080/"
        },
        "id": "YuDZFVoLMjmo",
        "outputId": "ab2763cb-44ed-43c3-891b-92265f6562d0"
      },
      "source": [
        "# May 2016 citibike data\n",
        "from pyspark import SparkFiles\n",
        "url = \"https://bootcamp-citibike-bucket.s3.amazonaws.com/NYC/May2016.csv\"\n",
        "spark.sparkContext.addFile(url)\n",
        "df2016 = spark.read.options(header=True, inferSchema=True).csv(SparkFiles.get(\"May2016.csv\"))\n",
        "df2016.show()"
      ],
      "execution_count": null,
      "outputs": [
        {
          "output_type": "stream",
          "text": [
            "+------------+-----------------+-----------------+----------------+--------------------+----------------------+-----------------------+--------------+--------------------+--------------------+---------------------+------+----------+----------+------+\n",
            "|tripduration|        starttime|         stoptime|start station id|  start station name|start station latitude|start station longitude|end station id|    end station name|end station latitude|end station longitude|bikeid|  usertype|birth year|gender|\n",
            "+------------+-----------------+-----------------+----------------+--------------------+----------------------+-----------------------+--------------+--------------------+--------------------+---------------------+------+----------+----------+------+\n",
            "|         538|5/1/2016 00:00:03|5/1/2016 00:09:02|             536|     1 Ave & E 30 St|           40.74144387|           -73.97536082|           497|  E 17 St & Broadway|         40.73704984|         -73.99009296| 23097|Subscriber|      1986|     2|\n",
            "|         224|5/1/2016 00:00:04|5/1/2016 00:03:49|             361|Allen St & Hester St|           40.71605866|           -73.99190759|           340|Madison St & Clin...|         40.71269042|         -73.98776323| 23631|Subscriber|      1977|     1|\n",
            "|         328|5/1/2016 00:00:14|5/1/2016 00:05:43|             301|   E 2 St & Avenue B|           40.72217444|           -73.98368779|           311|Norfolk St & Broo...|          40.7172274|         -73.98802084| 23049|Subscriber|      1980|     1|\n",
            "|        1196|5/1/2016 00:00:20|5/1/2016 00:20:17|            3141|     1 Ave & E 68 St|           40.76500525|           -73.95818491|           237|     E 11 St & 2 Ave|         40.73047309|         -73.98672378| 19019|  Customer|      null|     0|\n",
            "|         753|5/1/2016 00:00:26|5/1/2016 00:13:00|             492|     W 33 St & 7 Ave|           40.75019995|           -73.99093085|           228|     E 48 St & 3 Ave|       40.7546011026|        -73.971878855| 16437|Subscriber|      1981|     1|\n",
            "|         511|5/1/2016 00:00:33|5/1/2016 00:09:05|             445|  E 10 St & Avenue A|           40.72740794|           -73.98142006|           537|Lexington Ave & E...|         40.74025878|         -73.98409214| 20592|Subscriber|      1991|     1|\n",
            "|         362|5/1/2016 00:00:34|5/1/2016 00:06:37|             151|Cleveland Pl & Sp...|    40.722103786686034|     -73.99724900722504|           229|      Great Jones St|         40.72743423|         -73.99379025| 15681|Subscriber|      1986|     1|\n",
            "|        1399|5/1/2016 00:00:37|5/1/2016 00:23:56|             161|LaGuardia Pl & W ...|           40.72917025|           -73.99810231|          2022|  E 60 St & York Ave|           40.759107|           -73.959223| 16003|Subscriber|      1989|     1|\n",
            "|         515|5/1/2016 00:00:42|5/1/2016 00:09:17|             368|  Carmine St & 6 Ave|           40.73038599|           -74.00214988|           334|     W 20 St & 7 Ave|         40.74238787|         -73.99726235| 20515|Subscriber|      1998|     1|\n",
            "|        1477|5/1/2016 00:00:50|5/1/2016 00:25:27|             459|    W 20 St & 11 Ave|             40.746745|             -74.007756|           445|  E 10 St & Avenue A|         40.72740794|         -73.98142006| 20884|Subscriber|      1995|     1|\n",
            "|         531|5/1/2016 00:00:54|5/1/2016 00:09:45|             151|Cleveland Pl & Sp...|    40.722103786686034|     -73.99724900722504|           328|Watts St & Greenw...|         40.72405549|         -74.00965965| 21170|Subscriber|      1962|     1|\n",
            "|         492|5/1/2016 00:01:03|5/1/2016 00:09:15|             285|  Broadway & E 14 St|           40.73454567|           -73.99074142|           463|     9 Ave & W 16 St|         40.74206539|         -74.00443172| 17565|Subscriber|      1991|     1|\n",
            "|         432|5/1/2016 00:01:03|5/1/2016 00:08:15|             490|     8 Ave & W 33 St|             40.751551|             -73.993934|           448|    W 37 St & 10 Ave|         40.75660359|          -73.9979009| 16808|Subscriber|      1962|     2|\n",
            "|        1164|5/1/2016 00:01:03|5/1/2016 00:20:27|            3141|     1 Ave & E 68 St|           40.76500525|           -73.95818491|           237|     E 11 St & 2 Ave|         40.73047309|         -73.98672378| 23218|  Customer|      null|     0|\n",
            "|         579|5/1/2016 00:01:14|5/1/2016 00:10:53|             461|     E 20 St & 2 Ave|           40.73587678|           -73.98205027|           161|LaGuardia Pl & W ...|         40.72917025|         -73.99810231| 21510|Subscriber|      1971|     1|\n",
            "|         259|5/1/2016 00:01:15|5/1/2016 00:05:35|            3093|N 6 St & Bedford Ave|           40.71745169|           -73.95850939|          3111|Norman Ave & Leon...|          40.7258483|         -73.95064893| 21188|Subscriber|      1987|     2|\n",
            "|         196|5/1/2016 00:01:20|5/1/2016 00:04:37|             317|   E 6 St & Avenue B|           40.72453734|           -73.98185424|           428|      E 3 St & 1 Ave|         40.72467721|         -73.98783413| 23268|Subscriber|      1992|     1|\n",
            "|         445|5/1/2016 00:01:23|5/1/2016 00:08:49|             439|      E 4 St & 2 Ave|            40.7262807|           -73.98978041|           325|     E 19 St & 3 Ave|         40.73624527|         -73.98473765| 16998|Subscriber|      1984|     1|\n",
            "|         388|5/1/2016 00:01:28|5/1/2016 00:07:56|             323|Lawrence St & Wil...|           40.69236178|           -73.98631746|          3222|Hanson Pl & St Fe...|  40.685159599891776|   -73.97711366415024| 21394|  Customer|      null|     0|\n",
            "|         553|5/1/2016 00:01:31|5/1/2016 00:10:45|             453|     W 22 St & 8 Ave|           40.74475148|           -73.99915362|           297|     E 15 St & 3 Ave|           40.734232|           -73.986923| 23898|  Customer|      null|     0|\n",
            "+------------+-----------------+-----------------+----------------+--------------------+----------------------+-----------------------+--------------+--------------------+--------------------+---------------------+------+----------+----------+------+\n",
            "only showing top 20 rows\n",
            "\n"
          ],
          "name": "stdout"
        }
      ]
    },
    {
      "cell_type": "code",
      "metadata": {
        "colab": {
          "base_uri": "https://localhost:8080/"
        },
        "id": "ekfARP6OMjwc",
        "outputId": "2ece1e9b-65eb-431d-dadf-87c0932d112b"
      },
      "source": [
        "# May 2017 citibike data\n",
        "from pyspark import SparkFiles\n",
        "url = \"https://bootcamp-citibike-bucket.s3.amazonaws.com/NYC/May2017.csv\"\n",
        "spark.sparkContext.addFile(url)\n",
        "df2017 = spark.read.options(header=True, inferSchema=True).csv(SparkFiles.get(\"May2017.csv\"))\n",
        "df2017.show()"
      ],
      "execution_count": null,
      "outputs": [
        {
          "output_type": "stream",
          "text": [
            "+------------+-------------------+-------------------+----------------+--------------------+----------------------+-----------------------+--------------+--------------------+--------------------+---------------------+------+----------+----------+------+\n",
            "|tripduration|          starttime|           stoptime|start station id|  start station name|start station latitude|start station longitude|end station id|    end station name|end station latitude|end station longitude|bikeid|  usertype|birth year|gender|\n",
            "+------------+-------------------+-------------------+----------------+--------------------+----------------------+-----------------------+--------------+--------------------+--------------------+---------------------+------+----------+----------+------+\n",
            "|         254|2017-05-01 00:00:13|2017-05-01 00:04:27|             511|  E 14 St & Avenue B|           40.72938685|           -73.97772429|           394|   E 9 St & Avenue C|         40.72521311|         -73.97768752| 27695|Subscriber|      1996|     2|\n",
            "|         248|2017-05-01 00:00:19|2017-05-01 00:04:28|             511|  E 14 St & Avenue B|           40.72938685|           -73.97772429|           394|   E 9 St & Avenue C|         40.72521311|         -73.97768752| 15869|Subscriber|      1996|     1|\n",
            "|        1120|2017-05-01 00:00:19|2017-05-01 00:19:00|             242|Carlton Ave & Flu...|             40.697787|             -73.973736|          3083|Bushwick Ave & Po...|         40.71247661|         -73.94100005| 18700|Subscriber|      1985|     2|\n",
            "|         212|2017-05-01 00:00:24|2017-05-01 00:03:56|             168|     W 18 St & 6 Ave|           40.73971301|           -73.99456405|           116|     W 17 St & 8 Ave|         40.74177603|         -74.00149746| 24981|Subscriber|      1993|     1|\n",
            "|         686|2017-05-01 00:00:29|2017-05-01 00:11:55|             494|     W 26 St & 8 Ave|           40.74734825|           -73.99723551|           527|     E 33 St & 2 Ave|           40.744023|           -73.976056| 25407|Subscriber|      1964|     1|\n",
            "|         577|2017-05-01 00:00:35|2017-05-01 00:10:12|             334|     W 20 St & 7 Ave|           40.74238787|           -73.99726235|           504|     1 Ave & E 16 St|         40.73221853|         -73.98165557| 28713|Subscriber|      1956|     2|\n",
            "|         523|2017-05-01 00:00:41|2017-05-01 00:09:24|             335|Washington Pl & B...|           40.72903917|           -73.99404649|           487| E 20 St & FDR Drive|         40.73314259|         -73.97573881| 15385|Subscriber|      1994|     1|\n",
            "|         419|2017-05-01 00:00:45|2017-05-01 00:07:44|             336|Sullivan St & Was...|           40.73047747|           -73.99906065|           369|Washington Pl & 6...|         40.73224119|         -74.00026394| 18295|  Customer|      NULL|     0|\n",
            "|         518|2017-05-01 00:00:47|2017-05-01 00:09:25|             335|Washington Pl & B...|           40.72903917|           -73.99404649|           487| E 20 St & FDR Drive|         40.73314259|         -73.97573881| 15608|Subscriber|      1995|     1|\n",
            "|        1296|2017-05-01 00:00:48|2017-05-01 00:22:25|             291|Madison St & Mont...|             40.713126|             -73.984844|           291|Madison St & Mont...|           40.713126|           -73.984844| 17351|Subscriber|      1994|     1|\n",
            "|         418|2017-05-01 00:00:59|2017-05-01 00:07:58|             336|Sullivan St & Was...|           40.73047747|           -73.99906065|           369|Washington Pl & 6...|         40.73224119|         -74.00026394| 28237|  Customer|      NULL|     0|\n",
            "|         589|2017-05-01 00:01:00|2017-05-01 00:10:50|             415|Pearl St & Hanove...|            40.7047177|           -74.00926027|           340|Madison St & Clin...|         40.71269042|         -73.98776323| 15289|Subscriber|      1952|     1|\n",
            "|         735|2017-05-01 00:01:03|2017-05-01 00:13:18|             330| Reade St & Broadway|           40.71450451|           -74.00562789|           312|Allen St & Stanto...|           40.722055|           -73.989111| 27270|Subscriber|      1993|     1|\n",
            "|         950|2017-05-01 00:01:00|2017-05-01 00:16:50|             439|      E 4 St & 2 Ave|            40.7262807|           -73.98978041|           293|Lafayette St & E ...|   40.73020660529954|   -73.99102628231049| 18740|  Customer|      NULL|     0|\n",
            "|        2205|2017-05-01 00:01:03|2017-05-01 00:37:49|             306|Cliff St & Fulton St|           40.70823502|           -74.00530063|           306|Cliff St & Fulton St|         40.70823502|         -74.00530063| 17746|Subscriber|      1986|     1|\n",
            "|         391|2017-05-01 00:01:10|2017-05-01 00:07:41|            3429|Hanson Pl & Ashla...|     40.68506807308177|     -73.97790759801863|           419|Carlton Ave & Par...|         40.69580705|         -73.97355569| 26118|Subscriber|      1984|     1|\n",
            "|         320|2017-05-01 00:01:11|2017-05-01 00:06:32|             387|Centre St & Chamb...|           40.71273266|            -74.0046073|          2008|Little West St & ...|         40.70569254|         -74.01677685| 26691|Subscriber|      1992|     1|\n",
            "|         273|2017-05-01 00:01:11|2017-05-01 00:05:45|            3090| N 8 St & Driggs Ave|           40.71774592|           -73.95600096|          3111|Norman Ave & Leon...|          40.7258483|         -73.95064893| 28209|Subscriber|      1988|     1|\n",
            "|         461|2017-05-01 00:01:40|2017-05-01 00:09:21|             357|  E 11 St & Broadway|           40.73261787|           -73.99158043|           301|   E 2 St & Avenue B|         40.72217444|         -73.98368779| 27536|Subscriber|      1994|     1|\n",
            "|         345|2017-05-01 00:01:46|2017-05-01 00:07:32|             350|Clinton St & Gran...|           40.71559509|            -73.9870295|           511|  E 14 St & Avenue B|         40.72938685|         -73.97772429| 29347|Subscriber|      1974|     1|\n",
            "+------------+-------------------+-------------------+----------------+--------------------+----------------------+-----------------------+--------------+--------------------+--------------------+---------------------+------+----------+----------+------+\n",
            "only showing top 20 rows\n",
            "\n"
          ],
          "name": "stdout"
        }
      ]
    },
    {
      "cell_type": "code",
      "metadata": {
        "id": "WZj7zqvFH5HJ",
        "colab": {
          "base_uri": "https://localhost:8080/"
        },
        "outputId": "edfcbf48-6bff-4cf8-891f-a2c180466689"
      },
      "source": [
        "# May 2018 citibike data\n",
        "from pyspark import SparkFiles\n",
        "url = \"https://bootcamp-citibike-bucket.s3.amazonaws.com/NYC/May2018.csv\"\n",
        "spark.sparkContext.addFile(url)\n",
        "df2018 = spark.read.options(header=True, inferSchema=True).csv(SparkFiles.get(\"May2018.csv\"))\n",
        "df2018.show()"
      ],
      "execution_count": null,
      "outputs": [
        {
          "output_type": "stream",
          "text": [
            "+------------+--------------------+--------------------+----------------+------------------+----------------------+-----------------------+--------------+--------------------+--------------------+---------------------+------+----------+----------+------+\n",
            "|tripduration|           starttime|            stoptime|start station id|start station name|start station latitude|start station longitude|end station id|    end station name|end station latitude|end station longitude|bikeid|  usertype|birth year|gender|\n",
            "+------------+--------------------+--------------------+----------------+------------------+----------------------+-----------------------+--------------+--------------------+--------------------+---------------------+------+----------+----------+------+\n",
            "|         367|2018-05-01 05:06:...|2018-05-01 05:12:...|              72|  W 52 St & 11 Ave|           40.76727216|           -73.99392888|           514|    12 Ave & W 40 St|         40.76087502|         -74.00277668| 30567|Subscriber|      1965|     1|\n",
            "|        1313|2018-05-01 06:25:...|2018-05-01 06:47:...|              72|  W 52 St & 11 Ave|           40.76727216|           -73.99392888|           426|West St & Chamber...|         40.71754834|         -74.01322069| 18965|Subscriber|      1956|     1|\n",
            "|        1798|2018-05-01 06:40:...|2018-05-01 07:10:...|              72|  W 52 St & 11 Ave|           40.76727216|           -73.99392888|          3435|Grand St & Elizab...|           40.718822|            -73.99596| 30241|Subscriber|      1959|     2|\n",
            "|         518|2018-05-01 07:06:...|2018-05-01 07:14:...|              72|  W 52 St & 11 Ave|           40.76727216|           -73.99392888|           477|     W 41 St & 8 Ave|         40.75640548|          -73.9900262| 28985|Subscriber|      1986|     1|\n",
            "|         109|2018-05-01 07:26:...|2018-05-01 07:28:...|              72|  W 52 St & 11 Ave|           40.76727216|           -73.99392888|           530|    11 Ave & W 59 St|           40.771522|           -73.990541| 14556|Subscriber|      1991|     1|\n",
            "|         461|2018-05-01 07:28:...|2018-05-01 07:35:...|              72|  W 52 St & 11 Ave|           40.76727216|           -73.99392888|           468|  Broadway & W 56 St|          40.7652654|         -73.98192338| 28589|Subscriber|      1991|     2|\n",
            "|        1713|2018-05-01 07:57:...|2018-05-01 08:26:...|              72|  W 52 St & 11 Ave|           40.76727216|           -73.99392888|           304|Broadway & Batter...|         40.70463334|         -74.01361706| 30483|Subscriber|      1993|     2|\n",
            "|         423|2018-05-01 07:57:...|2018-05-01 08:05:...|              72|  W 52 St & 11 Ave|           40.76727216|           -73.99392888|           525|    W 34 St & 11 Ave|         40.75594159|          -74.0021163| 30120|Subscriber|      1991|     1|\n",
            "|         978|2018-05-01 08:01:...|2018-05-01 08:17:...|              72|  W 52 St & 11 Ave|           40.76727216|           -73.99392888|          3258|    W 27 St & 10 Ave|   40.75018156325683|   -74.00218427181244| 27780|Subscriber|      1973|     2|\n",
            "|         472|2018-05-01 08:07:...|2018-05-01 08:14:...|              72|  W 52 St & 11 Ave|           40.76727216|           -73.99392888|           500|  Broadway & W 51 St|         40.76228826|         -73.98336183| 17723|Subscriber|      1983|     1|\n",
            "|         460|2018-05-01 08:08:...|2018-05-01 08:16:...|              72|  W 52 St & 11 Ave|           40.76727216|           -73.99392888|           520|     W 52 St & 5 Ave|         40.75992262|         -73.97648516| 17255|Subscriber|      1987|     1|\n",
            "|         383|2018-05-01 08:10:...|2018-05-01 08:16:...|              72|  W 52 St & 11 Ave|           40.76727216|           -73.99392888|           173|  Broadway & W 49 St|   40.76068327096592|    -73.9845272898674| 31654|Subscriber|      1987|     1|\n",
            "|        1045|2018-05-01 08:11:...|2018-05-01 08:28:...|              72|  W 52 St & 11 Ave|           40.76727216|           -73.99392888|          3224| W 13 St & Hudson St|   40.73997354103409|   -74.00513872504234| 33035|Subscriber|      1961|     1|\n",
            "|         651|2018-05-01 08:14:...|2018-05-01 08:25:...|              72|  W 52 St & 11 Ave|           40.76727216|           -73.99392888|          3235|E 41 St & Madison...|  40.752165280621966|   -73.97992193698882| 32111|Subscriber|      1956|     1|\n",
            "|         966|2018-05-01 08:18:...|2018-05-01 08:34:...|              72|  W 52 St & 11 Ave|           40.76727216|           -73.99392888|           519|Pershing Square N...|           40.751873|           -73.977706| 17789|Subscriber|      1979|     1|\n",
            "|        1429|2018-05-01 08:22:...|2018-05-01 08:46:...|              72|  W 52 St & 11 Ave|           40.76727216|           -73.99392888|           497|  E 17 St & Broadway|         40.73704984|         -73.99009296| 29725|Subscriber|      1978|     2|\n",
            "|         782|2018-05-01 08:30:...|2018-05-01 08:43:...|              72|  W 52 St & 11 Ave|           40.76727216|           -73.99392888|           484|     W 44 St & 5 Ave|         40.75500254|         -73.98014437| 18821|Subscriber|      1960|     2|\n",
            "|        1491|2018-05-01 08:30:...|2018-05-01 08:55:...|              72|  W 52 St & 11 Ave|           40.76727216|           -73.99392888|          3664|North Moore St & ...|   40.72019521437465|    -74.0103006362915| 31403|Subscriber|      1984|     1|\n",
            "|        1269|2018-05-01 08:32:...|2018-05-01 08:53:...|              72|  W 52 St & 11 Ave|           40.76727216|           -73.99392888|           496|     E 16 St & 5 Ave|         40.73726186|         -73.99238967| 25738|Subscriber|      1980|     1|\n",
            "|         585|2018-05-01 08:32:...|2018-05-01 08:42:...|              72|  W 52 St & 11 Ave|           40.76727216|           -73.99392888|           490|     8 Ave & W 33 St|           40.751551|           -73.993934| 25140|Subscriber|      1984|     1|\n",
            "+------------+--------------------+--------------------+----------------+------------------+----------------------+-----------------------+--------------+--------------------+--------------------+---------------------+------+----------+----------+------+\n",
            "only showing top 20 rows\n",
            "\n"
          ],
          "name": "stdout"
        }
      ]
    },
    {
      "cell_type": "code",
      "metadata": {
        "id": "gWYxeUelQZB5",
        "colab": {
          "base_uri": "https://localhost:8080/"
        },
        "outputId": "525a3dbd-8e13-425c-8149-5bfcbda51057"
      },
      "source": [
        "#May 2019 citibike data\n",
        "from pyspark import SparkFiles\n",
        "url = \"https://bootcamp-citibike-bucket.s3.amazonaws.com/NYC/May2019.csv\"\n",
        "spark.sparkContext.addFile(url)\n",
        "df2019 = spark.read.options(header=True, inferSchema=True).csv(SparkFiles.get(\"May2019.csv\"))\n",
        "df2019.show()"
      ],
      "execution_count": null,
      "outputs": [
        {
          "output_type": "stream",
          "text": [
            "+------------+--------------------+--------------------+----------------+--------------------+----------------------+-----------------------+--------------+--------------------+--------------------+---------------------+------+----------+----------+------+\n",
            "|tripduration|           starttime|            stoptime|start station id|  start station name|start station latitude|start station longitude|end station id|    end station name|end station latitude|end station longitude|bikeid|  usertype|birth year|gender|\n",
            "+------------+--------------------+--------------------+----------------+--------------------+----------------------+-----------------------+--------------+--------------------+--------------------+---------------------+------+----------+----------+------+\n",
            "|         139|2019-05-01 00:00:...|2019-05-01 00:02:...|             447|     8 Ave & W 52 St|           40.76370739|            -73.9851615|           423|     W 54 St & 9 Ave|         40.76584941|         -73.98690506| 31170|Subscriber|      1983|     1|\n",
            "|         754|2019-05-01 00:00:...|2019-05-01 00:12:...|            3258|    W 27 St & 10 Ave|     40.75018156325683|     -74.00218427181244|          3255|     8 Ave & W 31 St|    40.7505853470215|    -73.9946848154068| 25560|  Customer|      1969|     0|\n",
            "|        2308|2019-05-01 00:00:...|2019-05-01 00:38:...|            3093|N 6 St & Bedford Ave|           40.71745169|           -73.95850939|          3676|Van Brunt St & Va...|    40.6758329439129|   -74.01472628116608| 33369|Subscriber|      1978|     1|\n",
            "|         143|2019-05-01 00:00:...|2019-05-01 00:02:...|            3486|Schermerhorn St &...|    40.688417427540834|     -73.98451656103134|          3412|Pacific St & Nevi...|          40.6853761|         -73.98302136| 32041|Subscriber|      1997|     1|\n",
            "|         138|2019-05-01 00:00:...|2019-05-01 00:02:...|             388|    W 26 St & 10 Ave|          40.749717753|          -74.002950346|           494|     W 26 St & 8 Ave|         40.74734825|         -73.99723551| 35237|Subscriber|      1967|     1|\n",
            "|        1598|2019-05-01 00:00:...|2019-05-01 00:27:...|             310| State St & Smith St|           40.68926942|           -73.98912867|          3322|       12 St & 4 Ave|           40.668603|          -73.9904394| 16614|  Customer|      1973|     1|\n",
            "|         514|2019-05-01 00:01:...|2019-05-01 00:09:...|             439|      E 4 St & 2 Ave|            40.7262807|           -73.98978041|           336|Sullivan St & Was...|         40.73047747|         -73.99906065| 15160|Subscriber|      1988|     1|\n",
            "|         524|2019-05-01 00:01:...|2019-05-01 00:10:...|             380|    W 4 St & 7 Ave S|           40.73401143|           -74.00293877|           439|      E 4 St & 2 Ave|          40.7262807|         -73.98978041| 16742|Subscriber|      1964|     1|\n",
            "|         415|2019-05-01 00:01:...|2019-05-01 00:08:...|            3092|   Berry St & N 8 St|            40.7190095|           -73.95852515|          3109|Banker St & Meser...|            40.72606|            -73.95621| 19973|Subscriber|      1987|     1|\n",
            "|        2733|2019-05-01 00:01:...|2019-05-01 00:47:...|            3630|Frederick Douglas...|            40.8038654|            -73.9559308|          3628|Lenox Ave & W 117 St|          40.8025566|          -73.9490782| 33792|Subscriber|      1985|     2|\n",
            "|         236|2019-05-01 00:01:...|2019-05-01 00:05:...|            3232| Bond St & Fulton St|     40.68962188790333|     -73.98304268717766|          3411| Bond St & Bergen St|          40.6849668|         -73.98620772| 34411|Subscriber|      1957|     2|\n",
            "|         754|2019-05-01 00:01:...|2019-05-01 00:14:...|             505|     6 Ave & W 33 St|           40.74901271|           -73.98848395|           483|     E 12 St & 3 Ave|         40.73223272|         -73.98889957| 14689|Subscriber|      1986|     1|\n",
            "|         536|2019-05-01 00:01:...|2019-05-01 00:10:...|             243|Fulton St & Rockw...|              40.68841|             -73.979458|           397|Fulton St & Clerm...|         40.68415748|         -73.96922273| 30962|Subscriber|      1974|     2|\n",
            "|         717|2019-05-01 00:01:...|2019-05-01 00:13:...|             237|     E 11 St & 2 Ave|           40.73047309|           -73.98672378|           432|   E 7 St & Avenue A|         40.72621788|         -73.98379855| 28640|Subscriber|      1995|     1|\n",
            "|         476|2019-05-01 00:01:...|2019-05-01 00:09:...|             167|     E 39 St & 3 Ave|            40.7489006|           -73.97604882|          2003|     1 Ave & E 18 St|  40.733812191966315|   -73.98054420948029| 25224|Subscriber|      1991|     1|\n",
            "|         398|2019-05-01 00:01:...|2019-05-01 00:08:...|             238|Bank St & Washing...|            40.7361967|           -74.00859207|           453|     W 22 St & 8 Ave|         40.74475148|         -73.99915362| 32645|Subscriber|      1995|     1|\n",
            "|         954|2019-05-01 00:02:...|2019-05-01 00:17:...|            3456|Jackson St & Leon...|     40.71638031973561|     -73.94821286201477|          3668|Leonard St & Nass...|    40.7239567849954|   -73.94984364509583| 34863|Subscriber|      1973|     1|\n",
            "|         561|2019-05-01 00:02:...|2019-05-01 00:11:...|            3420| Douglass St & 3 Ave|            40.6802133|           -73.98432695|           390|Duffield St & Wil...|         40.69221589|          -73.9842844| 30645|Subscriber|      1992|     1|\n",
            "|         293|2019-05-01 00:02:...|2019-05-01 00:07:...|            3581|Underhill Ave & L...|            40.6740123|            -73.9671457|          3584|Eastern Pkwy & Fr...|          40.6707767|          -73.9576801| 31246|Subscriber|      1987|     1|\n",
            "|        1213|2019-05-01 00:02:...|2019-05-01 00:22:...|            3687|     E 33 St & 1 Ave|     40.74322681432173|     -73.97449783980846|           259|South St & Whiteh...|         40.70122128|         -74.01234218| 29327|Subscriber|      1963|     1|\n",
            "+------------+--------------------+--------------------+----------------+--------------------+----------------------+-----------------------+--------------+--------------------+--------------------+---------------------+------+----------+----------+------+\n",
            "only showing top 20 rows\n",
            "\n"
          ],
          "name": "stdout"
        }
      ]
    },
    {
      "cell_type": "code",
      "metadata": {
        "colab": {
          "base_uri": "https://localhost:8080/"
        },
        "id": "oHsSAxknmrkT",
        "outputId": "84339e9a-df66-49ae-c6bf-af1c5ee8588d"
      },
      "source": [
        "#Cleaned May citibike data\n",
        "from pyspark import SparkFiles\n",
        "url = \"https://bootcamp-citibike-bucket.s3.amazonaws.com/allmay_cleaned.csv\"\n",
        "spark.sparkContext.addFile(url)\n",
        "cleanedmaydf = spark.read.options(header=True, inferSchema=True).csv(SparkFiles.get(\"allmay_cleaned.csv\"))\n",
        "cleanedmaydf.show()"
      ],
      "execution_count": 5,
      "outputs": [
        {
          "output_type": "stream",
          "text": [
            "+------------+-------------------+-------------------+----------------+----------------------+-----------------------+--------------+--------------------+---------------------+------+--------+----------+------+\n",
            "|tripduration|          starttime|           stoptime|start station id|start station latitude|start station longitude|end station id|end station latitude|end station longitude|bikeid|usertype|birth year|gender|\n",
            "+------------+-------------------+-------------------+----------------+----------------------+-----------------------+--------------+--------------------+---------------------+------+--------+----------+------+\n",
            "|         538|2016-05-01 00:00:03|2016-05-01 00:09:02|             536|           40.74144387|           -73.97536082|           497|         40.73704984|         -73.99009296| 23097|       1|    1986.0|     2|\n",
            "|         224|2016-05-01 00:00:04|2016-05-01 00:03:49|             361|           40.71605866|           -73.99190759|           340|         40.71269042|         -73.98776323| 23631|       1|    1977.0|     1|\n",
            "|         328|2016-05-01 00:00:14|2016-05-01 00:05:43|             301|           40.72217444|           -73.98368779|           311|          40.7172274|         -73.98802084| 23049|       1|    1980.0|     1|\n",
            "|         753|2016-05-01 00:00:26|2016-05-01 00:13:00|             492|           40.75019995|           -73.99093085|           228|       40.7546011026|        -73.971878855| 16437|       1|    1981.0|     1|\n",
            "|         511|2016-05-01 00:00:33|2016-05-01 00:09:05|             445|           40.72740794|           -73.98142006|           537|         40.74025878|         -73.98409214| 20592|       1|    1991.0|     1|\n",
            "|         362|2016-05-01 00:00:34|2016-05-01 00:06:37|             151|    40.722103786686034|     -73.99724900722504|           229|         40.72743423|         -73.99379025| 15681|       1|    1986.0|     1|\n",
            "|        1399|2016-05-01 00:00:37|2016-05-01 00:23:56|             161|           40.72917025|           -73.99810231|          2022|           40.759107|           -73.959223| 16003|       1|    1989.0|     1|\n",
            "|         515|2016-05-01 00:00:42|2016-05-01 00:09:17|             368|           40.73038599|           -74.00214988|           334|         40.74238787|         -73.99726235| 20515|       1|    1998.0|     1|\n",
            "|        1477|2016-05-01 00:00:50|2016-05-01 00:25:27|             459|             40.746745|             -74.007756|           445|         40.72740794|         -73.98142006| 20884|       1|    1995.0|     1|\n",
            "|         531|2016-05-01 00:00:54|2016-05-01 00:09:45|             151|    40.722103786686034|     -73.99724900722504|           328|         40.72405549|         -74.00965965| 21170|       1|    1962.0|     1|\n",
            "|         492|2016-05-01 00:01:03|2016-05-01 00:09:15|             285|           40.73454567|           -73.99074142|           463|         40.74206539|         -74.00443172| 17565|       1|    1991.0|     1|\n",
            "|         432|2016-05-01 00:01:03|2016-05-01 00:08:15|             490|             40.751551|             -73.993934|           448|         40.75660359|          -73.9979009| 16808|       1|    1962.0|     2|\n",
            "|         579|2016-05-01 00:01:14|2016-05-01 00:10:53|             461|           40.73587678|           -73.98205027|           161|         40.72917025|         -73.99810231| 21510|       1|    1971.0|     1|\n",
            "|         259|2016-05-01 00:01:15|2016-05-01 00:05:35|            3093|           40.71745169|           -73.95850939|          3111|          40.7258483|         -73.95064893| 21188|       1|    1987.0|     2|\n",
            "|         196|2016-05-01 00:01:20|2016-05-01 00:04:37|             317|           40.72453734|           -73.98185424|           428|         40.72467721|         -73.98783413| 23268|       1|    1992.0|     1|\n",
            "|         445|2016-05-01 00:01:23|2016-05-01 00:08:49|             439|            40.7262807|           -73.98978041|           325|         40.73624527|         -73.98473765| 16998|       1|    1984.0|     1|\n",
            "|         557|2016-05-01 00:01:40|2016-05-01 00:10:57|             428|           40.72467721|           -73.98783413|           361|         40.71605866|         -73.99190759| 20686|       1|    1985.0|     1|\n",
            "|         176|2016-05-01 00:01:47|2016-05-01 00:04:44|            3090|           40.71774592|           -73.95600096|          3107|         40.72311651|         -73.95212324| 18657|       1|    1986.0|     2|\n",
            "|        1648|2016-05-01 00:01:59|2016-05-01 00:29:27|             515|           40.76009437|           -73.99461843|           326|         40.72953837|         -73.98426726| 23464|       1|    1977.0|     1|\n",
            "|         794|2016-05-01 00:02:12|2016-05-01 00:15:26|            3076|           40.70870368|            -73.9448625|           539|         40.71534825|         -73.96024116| 14645|       1|    1983.0|     1|\n",
            "+------------+-------------------+-------------------+----------------+----------------------+-----------------------+--------------+--------------------+---------------------+------+--------+----------+------+\n",
            "only showing top 20 rows\n",
            "\n"
          ],
          "name": "stdout"
        }
      ]
    },
    {
      "cell_type": "code",
      "metadata": {
        "colab": {
          "base_uri": "https://localhost:8080/"
        },
        "id": "JkkAzJRdMyi3",
        "outputId": "6ca2469c-21d9-4661-d862-ded37b228a7e"
      },
      "source": [
        "# May 2016 station data\n",
        "\n",
        "from pyspark import SparkFiles\n",
        "url = \"https://bootcamp-citibike-bucket.s3.amazonaws.com/StationDocks/StationsRawMay2016.csv\"\n",
        "spark.sparkContext.addFile(url)\n",
        "stations2016 = spark.read.options(delimiter = \"\\t\", header=True, inferSchema=True).csv(SparkFiles.get(\"StationsRawMay2016.csv\"))\n",
        "stations2016.show()"
      ],
      "execution_count": null,
      "outputs": [
        {
          "output_type": "stream",
          "text": [
            "+-------+----------------+--------+----+------+---+-----------+-----------+---------+---------+----------+----------+----------+------+\n",
            "|dock_id|       dock_name|    date|hour|minute| pm|avail_bikes|avail_docks|tot_docks|     _lat|     _long|in_service|status_key|_long3|\n",
            "+-------+----------------+--------+----+------+---+-----------+-----------+---------+---------+----------+----------+----------+------+\n",
            "|     72|W 52 St & 11 Ave|16-05-01|   1|     9|  0|         11|         25|       39|40.767272|-73.993929|         1|         1|  null|\n",
            "|     72|W 52 St & 11 Ave|16-05-01|   1|    22|  0|         11|         25|       39|40.767272|-73.993929|         1|         1|  null|\n",
            "|     72|W 52 St & 11 Ave|16-05-01|   1|    35|  0|         11|         25|       39|40.767272|-73.993929|         1|         1|  null|\n",
            "|     72|W 52 St & 11 Ave|16-05-01|   1|    47|  0|         11|         25|       39|40.767272|-73.993929|         1|         1|  null|\n",
            "|     72|W 52 St & 11 Ave|16-05-01|   2|     0|  0|         11|         25|       39|40.767272|-73.993929|         1|         1|  null|\n",
            "|     72|W 52 St & 11 Ave|16-05-01|   2|    13|  0|         12|         24|       39|40.767272|-73.993929|         1|         1|  null|\n",
            "|     72|W 52 St & 11 Ave|16-05-01|   2|    26|  0|         12|         24|       39|40.767272|-73.993929|         1|         1|  null|\n",
            "|     72|W 52 St & 11 Ave|16-05-01|   2|    39|  0|         12|         24|       39|40.767272|-73.993929|         1|         1|  null|\n",
            "|     72|W 52 St & 11 Ave|16-05-01|   2|    51|  0|         12|         24|       39|40.767272|-73.993929|         1|         1|  null|\n",
            "|     72|W 52 St & 11 Ave|16-05-01|   3|     4|  0|         12|         24|       39|40.767272|-73.993929|         1|         1|  null|\n",
            "|     72|W 52 St & 11 Ave|16-05-01|   3|    16|  0|         12|         24|       39|40.767272|-73.993929|         1|         1|  null|\n",
            "|     72|W 52 St & 11 Ave|16-05-01|   3|    36|  0|         12|         24|       39|40.767272|-73.993929|         1|         1|  null|\n",
            "|     72|W 52 St & 11 Ave|16-05-01|   3|    48|  0|         13|         26|       39|40.767272|-73.993929|         1|         1|  null|\n",
            "|     72|W 52 St & 11 Ave|16-05-01|   4|     0|  0|         13|         26|       39|40.767272|-73.993929|         1|         1|  null|\n",
            "|     72|W 52 St & 11 Ave|16-05-01|   4|    13|  0|         13|         26|       39|40.767272|-73.993929|         1|         1|  null|\n",
            "|     72|W 52 St & 11 Ave|16-05-01|   4|    25|  0|         13|         26|       39|40.767272|-73.993929|         1|         1|  null|\n",
            "|     72|W 52 St & 11 Ave|16-05-01|   4|    37|  0|         13|         26|       39|40.767272|-73.993929|         1|         1|  null|\n",
            "|     72|W 52 St & 11 Ave|16-05-01|   4|    49|  0|         13|         26|       39|40.767272|-73.993929|         1|         1|  null|\n",
            "|     72|W 52 St & 11 Ave|16-05-01|   5|     1|  0|         13|         26|       39|40.767272|-73.993929|         1|         1|  null|\n",
            "|     72|W 52 St & 11 Ave|16-05-01|   5|    12|  0|         13|         26|       39|40.767272|-73.993929|         1|         1|  null|\n",
            "+-------+----------------+--------+----+------+---+-----------+-----------+---------+---------+----------+----------+----------+------+\n",
            "only showing top 20 rows\n",
            "\n"
          ],
          "name": "stdout"
        }
      ]
    },
    {
      "cell_type": "code",
      "metadata": {
        "id": "jTh6VdIcMyuO",
        "colab": {
          "base_uri": "https://localhost:8080/"
        },
        "outputId": "4fc8b26b-b534-4d5a-a333-2094254fc5af"
      },
      "source": [
        "# May 2017 station data\n",
        "\n",
        "from pyspark import SparkFiles\n",
        "url = \"https://bootcamp-citibike-bucket.s3.amazonaws.com/StationDocks/StationsRawMay2017.csv\"\n",
        "spark.sparkContext.addFile(url)\n",
        "stations2017 = spark.read.options(delimiter = \"\\t\", header=True, inferSchema=True).csv(SparkFiles.get(\"StationsRawMay2017.csv\"))\n",
        "stations2017.show()"
      ],
      "execution_count": null,
      "outputs": [
        {
          "output_type": "stream",
          "text": [
            "+-------+----------------+--------+----+------+---+-----------+-----------+---------+---------+----------+----------+----------+\n",
            "|dock_id|       dock_name|    date|hour|minute| pm|avail_bikes|avail_docks|tot_docks|     _lat|     _long|in_service|status_key|\n",
            "+-------+----------------+--------+----+------+---+-----------+-----------+---------+---------+----------+----------+----------+\n",
            "|     72|W 52 St & 11 Ave|17-05-01|   3|    34|  1|          0|         39|       39|40.767272|-73.993929|         1|         1|\n",
            "|     72|W 52 St & 11 Ave|17-05-01|   5|    49|  1|          2|         36|       39|40.767272|-73.993929|         1|         1|\n",
            "|     72|W 52 St & 11 Ave|17-05-01|   7|     0|  1|          2|         35|       39|40.767272|-73.993929|         1|         1|\n",
            "|     72|W 52 St & 11 Ave|17-05-01|   8|    12|  1|          6|         31|       39|40.767272|-73.993929|         1|         1|\n",
            "|     72|W 52 St & 11 Ave|17-05-01|   9|    19|  1|         12|         25|       39|40.767272|-73.993929|         1|         1|\n",
            "|     72|W 52 St & 11 Ave|17-05-01|  10|    25|  1|         16|         21|       39|40.767272|-73.993929|         1|         1|\n",
            "|     72|W 52 St & 11 Ave|17-05-01|  11|    31|  1|         15|         22|       39|40.767272|-73.993929|         1|         1|\n",
            "|     72|W 52 St & 11 Ave|17-05-02|   1|    42|  0|         16|         21|       39|40.767272|-73.993929|         1|         1|\n",
            "|     72|W 52 St & 11 Ave|17-05-02|   2|    45|  0|         16|         21|       39|40.767272|-73.993929|         1|         1|\n",
            "|     72|W 52 St & 11 Ave|17-05-02|   4|    21|  0|         15|         22|       39|40.767272|-73.993929|         1|         1|\n",
            "|     72|W 52 St & 11 Ave|17-05-02|   7|    20|  0|         19|         17|       39|40.767272|-73.993929|         1|         1|\n",
            "|     72|W 52 St & 11 Ave|17-05-02|   9|     2|  0|          4|         32|       39|40.767272|-73.993929|         1|         1|\n",
            "|     72|W 52 St & 11 Ave|17-05-02|  10|    30|  0|          0|         36|       39|40.767272|-73.993929|         1|         1|\n",
            "|     72|W 52 St & 11 Ave|17-05-02|  12|    38|  0|         16|         21|       39|40.767272|-73.993929|         1|         1|\n",
            "|     72|W 52 St & 11 Ave|17-05-02|   1|     7|  1|          2|         36|       39|40.767272|-73.993929|         1|         1|\n",
            "|     72|W 52 St & 11 Ave|17-05-02|   3|    27|  1|          1|         37|       39|40.767272|-73.993929|         1|         1|\n",
            "|     72|W 52 St & 11 Ave|17-05-02|   4|    50|  1|          1|         37|       39|40.767272|-73.993929|         1|         1|\n",
            "|     72|W 52 St & 11 Ave|17-05-02|   7|     0|  1|          6|         32|       39|40.767272|-73.993929|         1|         1|\n",
            "|     72|W 52 St & 11 Ave|17-05-02|  10|    20|  1|          1|         37|       39|40.767272|-73.993929|         1|         1|\n",
            "|     72|W 52 St & 11 Ave|17-05-03|   1|    26|  0|          4|         34|       39|40.767272|-73.993929|         1|         1|\n",
            "+-------+----------------+--------+----+------+---+-----------+-----------+---------+---------+----------+----------+----------+\n",
            "only showing top 20 rows\n",
            "\n"
          ],
          "name": "stdout"
        }
      ]
    },
    {
      "cell_type": "code",
      "metadata": {
        "id": "QLkDhRDZQhbF",
        "colab": {
          "base_uri": "https://localhost:8080/"
        },
        "outputId": "6800b167-3528-45c7-9d51-b9d50ac8e986"
      },
      "source": [
        "# May 2018 station data\n",
        "\n",
        "from pyspark import SparkFiles\n",
        "url = \"https://bootcamp-citibike-bucket.s3.amazonaws.com/StationDocks/StationsRawMay2018.csv\"\n",
        "spark.sparkContext.addFile(url)\n",
        "stations2018 = spark.read.options(delimiter = \"\\t\", header=True, inferSchema=True).csv(SparkFiles.get(\"StationsRawMay2018.csv\"))\n",
        "stations2018.show()"
      ],
      "execution_count": null,
      "outputs": [
        {
          "output_type": "stream",
          "text": [
            "+-------+----------------+--------+----+------+---+-----------+-----------+---------+---------+----------+----------+----------+\n",
            "|dock_id|       dock_name|    date|hour|minute| pm|avail_bikes|avail_docks|tot_docks|     _lat|     _long|in_service|status_key|\n",
            "+-------+----------------+--------+----+------+---+-----------+-----------+---------+---------+----------+----------+----------+\n",
            "|     72|W 52 St & 11 Ave|18-05-01|   1|     4|  0|         16|         20|       39|40.767272|-73.993929|         1|         1|\n",
            "|     72|W 52 St & 11 Ave|18-05-01|   1|    36|  0|         16|         20|       39|40.767272|-73.993929|         1|         1|\n",
            "|     72|W 52 St & 11 Ave|18-05-01|   2|     7|  0|         16|         20|       39|40.767272|-73.993929|         1|         1|\n",
            "|     72|W 52 St & 11 Ave|18-05-01|   2|    38|  0|         16|         20|       39|40.767272|-73.993929|         1|         1|\n",
            "|     72|W 52 St & 11 Ave|18-05-01|   3|     9|  0|         16|         20|       39|40.767272|-73.993929|         1|         1|\n",
            "|     72|W 52 St & 11 Ave|18-05-01|   3|    41|  0|         16|         20|       39|40.767272|-73.993929|         1|         1|\n",
            "|     72|W 52 St & 11 Ave|18-05-01|   4|    13|  0|         16|         20|       39|40.767272|-73.993929|         1|         1|\n",
            "|     72|W 52 St & 11 Ave|18-05-01|   4|    44|  0|         16|         20|       39|40.767272|-73.993929|         1|         1|\n",
            "|     72|W 52 St & 11 Ave|18-05-01|   5|    16|  0|         15|         21|       39|40.767272|-73.993929|         1|         1|\n",
            "|     72|W 52 St & 11 Ave|18-05-01|   5|    50|  0|         15|         21|       39|40.767272|-73.993929|         1|         1|\n",
            "|     72|W 52 St & 11 Ave|18-05-01|   6|    23|  0|         16|         20|       39|40.767272|-73.993929|         1|         1|\n",
            "|     72|W 52 St & 11 Ave|18-05-01|   6|    58|  0|         19|         17|       39|40.767272|-73.993929|         1|         1|\n",
            "|     72|W 52 St & 11 Ave|18-05-01|   7|    35|  0|         21|         15|       39|40.767272|-73.993929|         1|         1|\n",
            "|     72|W 52 St & 11 Ave|18-05-01|   8|    11|  0|         19|         17|       39|40.767272|-73.993929|         1|         1|\n",
            "|     72|W 52 St & 11 Ave|18-05-01|   8|    48|  0|          6|         30|       39|40.767272|-73.993929|         1|         1|\n",
            "|     72|W 52 St & 11 Ave|18-05-01|   9|    24|  0|          1|         36|       39|40.767272|-73.993929|         1|         1|\n",
            "|     72|W 52 St & 11 Ave|18-05-01|  10|     1|  0|          0|         37|       39|40.767272|-73.993929|         1|         1|\n",
            "|     72|W 52 St & 11 Ave|18-05-01|  10|    36|  0|          4|         32|       39|40.767272|-73.993929|         1|         1|\n",
            "|     72|W 52 St & 11 Ave|18-05-01|  11|    11|  0|          5|         31|       39|40.767272|-73.993929|         1|         1|\n",
            "|     72|W 52 St & 11 Ave|18-05-01|  11|    46|  0|          3|         34|       39|40.767272|-73.993929|         1|         1|\n",
            "+-------+----------------+--------+----+------+---+-----------+-----------+---------+---------+----------+----------+----------+\n",
            "only showing top 20 rows\n",
            "\n"
          ],
          "name": "stdout"
        }
      ]
    },
    {
      "cell_type": "code",
      "metadata": {
        "id": "iGYStuiIQjj8",
        "colab": {
          "base_uri": "https://localhost:8080/"
        },
        "outputId": "af76cbc3-4f41-4d89-e42e-2f669515d794"
      },
      "source": [
        "# April 2019 station data\n",
        "\n",
        "from pyspark import SparkFiles\n",
        "url = \"https://bootcamp-citibike-bucket.s3.amazonaws.com/StationDocks/StationsRawApril2019.csv\"\n",
        "spark.sparkContext.addFile(url)\n",
        "stations2019 = spark.read.options(delimiter = \"\\t\", header=True, inferSchema=True).csv(SparkFiles.get(\"StationsRawApril2019.csv\"))\n",
        "stations2019.show()"
      ],
      "execution_count": null,
      "outputs": [
        {
          "output_type": "stream",
          "text": [
            "+-------+----------------+--------+----+------+---+-----------+-----------+---------+---------+----------+----------+----------+\n",
            "|dock_id|       dock_name|    date|hour|minute| pm|avail_bikes|avail_docks|tot_docks|     _lat|     _long|in_service|status_key|\n",
            "+-------+----------------+--------+----+------+---+-----------+-----------+---------+---------+----------+----------+----------+\n",
            "|     72|W 52 St & 11 Ave|19-04-02|   4|    56|  1|          6|         49|       55|40.767272|-73.993929|         1|         1|\n",
            "|     72|W 52 St & 11 Ave|19-04-02|   5|    36|  1|          1|         54|       55|40.767272|-73.993929|         1|         1|\n",
            "|     72|W 52 St & 11 Ave|19-04-02|   6|    16|  1|          4|         51|       55|40.767272|-73.993929|         1|         1|\n",
            "|     72|W 52 St & 11 Ave|19-04-02|   6|    54|  1|          3|         52|       55|40.767272|-73.993929|         1|         1|\n",
            "|     72|W 52 St & 11 Ave|19-04-02|   7|    36|  1|          7|         48|       55|40.767272|-73.993929|         1|         1|\n",
            "|     72|W 52 St & 11 Ave|19-04-02|   8|    35|  1|         14|         41|       55|40.767272|-73.993929|         1|         1|\n",
            "|     72|W 52 St & 11 Ave|19-04-02|   9|    28|  1|         15|         40|       55|40.767272|-73.993929|         1|         1|\n",
            "|     72|W 52 St & 11 Ave|19-04-02|  10|    12|  1|         18|         37|       55|40.767272|-73.993929|         1|         1|\n",
            "|     72|W 52 St & 11 Ave|19-04-02|  10|    54|  1|         16|         39|       55|40.767272|-73.993929|         1|         1|\n",
            "|     72|W 52 St & 11 Ave|19-04-02|  11|    35|  1|         16|         39|       55|40.767272|-73.993929|         1|         1|\n",
            "|     72|W 52 St & 11 Ave|19-04-03|   1|    11|  0|         17|         38|       55|40.767272|-73.993929|         1|         1|\n",
            "|     72|W 52 St & 11 Ave|19-04-03|   1|    52|  0|         17|         38|       55|40.767272|-73.993929|         1|         1|\n",
            "|     72|W 52 St & 11 Ave|19-04-03|   2|    37|  0|         17|         38|       55|40.767272|-73.993929|         1|         1|\n",
            "|     72|W 52 St & 11 Ave|19-04-03|   3|    17|  0|         17|         38|       55|40.767272|-73.993929|         1|         1|\n",
            "|     72|W 52 St & 11 Ave|19-04-03|   4|     1|  0|         17|         38|       55|40.767272|-73.993929|         1|         1|\n",
            "|     72|W 52 St & 11 Ave|19-04-03|   4|    43|  0|         17|         38|       55|40.767272|-73.993929|         1|         1|\n",
            "|     72|W 52 St & 11 Ave|19-04-03|   5|    27|  0|         17|         38|       55|40.767272|-73.993929|         1|         1|\n",
            "|     72|W 52 St & 11 Ave|19-04-03|   6|    20|  0|         19|         36|       55|40.767272|-73.993929|         1|         1|\n",
            "|     72|W 52 St & 11 Ave|19-04-03|   7|     7|  0|         17|         38|       55|40.767272|-73.993929|         1|         1|\n",
            "|     72|W 52 St & 11 Ave|19-04-03|   7|    56|  0|         20|         34|       55|40.767272|-73.993929|         1|         1|\n",
            "+-------+----------------+--------+----+------+---+-----------+-----------+---------+---------+----------+----------+----------+\n",
            "only showing top 20 rows\n",
            "\n"
          ],
          "name": "stdout"
        }
      ]
    },
    {
      "cell_type": "code",
      "metadata": {
        "colab": {
          "base_uri": "https://localhost:8080/"
        },
        "id": "wJ9RHxS8X7gA",
        "outputId": "ba4892d6-882f-4642-be38-bb91494feeed"
      },
      "source": [
        "stations2019.dtypes"
      ],
      "execution_count": null,
      "outputs": [
        {
          "output_type": "execute_result",
          "data": {
            "text/plain": [
              "[('dock_id', 'int'),\n",
              " ('dock_name', 'string'),\n",
              " ('date', 'string'),\n",
              " ('hour', 'int'),\n",
              " ('minute', 'int'),\n",
              " ('pm', 'int'),\n",
              " ('avail_bikes', 'int'),\n",
              " ('avail_docks', 'int'),\n",
              " ('tot_docks', 'int'),\n",
              " ('_lat', 'double'),\n",
              " ('_long', 'double'),\n",
              " ('in_service', 'int'),\n",
              " ('status_key', 'int')]"
            ]
          },
          "metadata": {
            "tags": []
          },
          "execution_count": 12
        }
      ]
    },
    {
      "cell_type": "code",
      "metadata": {
        "colab": {
          "base_uri": "https://localhost:8080/"
        },
        "id": "s4TpzPHHnbeq",
        "outputId": "4c629875-25d2-4590-9912-7f7c0fd399a1"
      },
      "source": [
        "# allstation Cleaned data\n",
        "\n",
        "from pyspark import SparkFiles\n",
        "url = \"https://bootcamp-citibike-bucket.s3.amazonaws.com/allstations_cleaned.csv\"\n",
        "spark.sparkContext.addFile(url)\n",
        "cleanedstationdf = spark.read.options(delimiter = \",\", header=True, inferSchema=True).csv(SparkFiles.get(\"allstations_cleaned.csv\"))\n",
        "cleanedstationdf.show()"
      ],
      "execution_count": 4,
      "outputs": [
        {
          "output_type": "stream",
          "text": [
            "+-------+----------------+--------+----+------+---+-----------+-----------+---------+---------+----------+----------+----------+\n",
            "|dock_id|       dock_name|    date|hour|minute| pm|avail_bikes|avail_docks|tot_docks|     _lat|     _long|in_service|status_key|\n",
            "+-------+----------------+--------+----+------+---+-----------+-----------+---------+---------+----------+----------+----------+\n",
            "|     72|W 52 St & 11 Ave|16-05-01|   1|     9|  0|         11|         25|       39|40.767272|-73.993929|         1|         1|\n",
            "|     72|W 52 St & 11 Ave|16-05-01|   1|    22|  0|         11|         25|       39|40.767272|-73.993929|         1|         1|\n",
            "|     72|W 52 St & 11 Ave|16-05-01|   1|    35|  0|         11|         25|       39|40.767272|-73.993929|         1|         1|\n",
            "|     72|W 52 St & 11 Ave|16-05-01|   1|    47|  0|         11|         25|       39|40.767272|-73.993929|         1|         1|\n",
            "|     72|W 52 St & 11 Ave|16-05-01|   2|     0|  0|         11|         25|       39|40.767272|-73.993929|         1|         1|\n",
            "|     72|W 52 St & 11 Ave|16-05-01|   2|    13|  0|         12|         24|       39|40.767272|-73.993929|         1|         1|\n",
            "|     72|W 52 St & 11 Ave|16-05-01|   2|    26|  0|         12|         24|       39|40.767272|-73.993929|         1|         1|\n",
            "|     72|W 52 St & 11 Ave|16-05-01|   2|    39|  0|         12|         24|       39|40.767272|-73.993929|         1|         1|\n",
            "|     72|W 52 St & 11 Ave|16-05-01|   2|    51|  0|         12|         24|       39|40.767272|-73.993929|         1|         1|\n",
            "|     72|W 52 St & 11 Ave|16-05-01|   3|     4|  0|         12|         24|       39|40.767272|-73.993929|         1|         1|\n",
            "|     72|W 52 St & 11 Ave|16-05-01|   3|    16|  0|         12|         24|       39|40.767272|-73.993929|         1|         1|\n",
            "|     72|W 52 St & 11 Ave|16-05-01|   3|    36|  0|         12|         24|       39|40.767272|-73.993929|         1|         1|\n",
            "|     72|W 52 St & 11 Ave|16-05-01|   3|    48|  0|         13|         26|       39|40.767272|-73.993929|         1|         1|\n",
            "|     72|W 52 St & 11 Ave|16-05-01|   4|     0|  0|         13|         26|       39|40.767272|-73.993929|         1|         1|\n",
            "|     72|W 52 St & 11 Ave|16-05-01|   4|    13|  0|         13|         26|       39|40.767272|-73.993929|         1|         1|\n",
            "|     72|W 52 St & 11 Ave|16-05-01|   4|    25|  0|         13|         26|       39|40.767272|-73.993929|         1|         1|\n",
            "|     72|W 52 St & 11 Ave|16-05-01|   4|    37|  0|         13|         26|       39|40.767272|-73.993929|         1|         1|\n",
            "|     72|W 52 St & 11 Ave|16-05-01|   4|    49|  0|         13|         26|       39|40.767272|-73.993929|         1|         1|\n",
            "|     72|W 52 St & 11 Ave|16-05-01|   5|     1|  0|         13|         26|       39|40.767272|-73.993929|         1|         1|\n",
            "|     72|W 52 St & 11 Ave|16-05-01|   5|    12|  0|         13|         26|       39|40.767272|-73.993929|         1|         1|\n",
            "+-------+----------------+--------+----+------+---+-----------+-----------+---------+---------+----------+----------+----------+\n",
            "only showing top 20 rows\n",
            "\n"
          ],
          "name": "stdout"
        }
      ]
    },
    {
      "cell_type": "code",
      "metadata": {
        "id": "dl_5CqcuVa0b"
      },
      "source": [
        "# Configure settings for RDS\n",
        "mode = \"append\"\n",
        "jdbc_url=\"jdbc:postgresql://citibike-analysis.cbk1sw5fz5td.us-east-1.rds.amazonaws.com:5432/project\"\n",
        "config = {\"user\":\"postgres\", \n",
        "          \"password\": \"postgres\", \n",
        "          \"driver\":\"org.postgresql.Driver\"}"
      ],
      "execution_count": 5,
      "outputs": []
    },
    {
      "cell_type": "code",
      "metadata": {
        "id": "hcvLsAVIOFUf"
      },
      "source": [
        "# Write may2016 to table in RDS\n",
        "df2016.write.jdbc(url=jdbc_url, table='may2016', mode=mode, properties=config)"
      ],
      "execution_count": null,
      "outputs": []
    },
    {
      "cell_type": "code",
      "metadata": {
        "id": "h94h4IT3OFbC"
      },
      "source": [
        "# Write may2017 to table in RDS\n",
        "df2017.write.jdbc(url=jdbc_url, table='may2017', mode=mode, properties=config)"
      ],
      "execution_count": null,
      "outputs": []
    },
    {
      "cell_type": "code",
      "metadata": {
        "id": "1ruNMNR1soo5"
      },
      "source": [
        "# Write may2018 to table in RDS\n",
        "df2018.write.jdbc(url=jdbc_url, table='may2018', mode=mode, properties=config)"
      ],
      "execution_count": null,
      "outputs": []
    },
    {
      "cell_type": "code",
      "metadata": {
        "id": "DWiEjaSB1Zbz"
      },
      "source": [
        "# Write may2019 to table in RDS\n",
        "df2019.write.jdbc(url=jdbc_url, table='may2019', mode=mode, properties=config)"
      ],
      "execution_count": null,
      "outputs": []
    },
    {
      "cell_type": "code",
      "metadata": {
        "id": "mXHxxBE0OHbB"
      },
      "source": [
        "# Write stations2016 to table in RDS\n",
        "stations2016.write.jdbc(url=jdbc_url, table='stations2016', mode=mode, properties=config)"
      ],
      "execution_count": null,
      "outputs": []
    },
    {
      "cell_type": "code",
      "metadata": {
        "id": "-D-CIeslOHho"
      },
      "source": [
        "# Write stations2017 to table in RDS\n",
        "stations2017.write.jdbc(url=jdbc_url, table='stations2017', mode=mode, properties=config)"
      ],
      "execution_count": null,
      "outputs": []
    },
    {
      "cell_type": "code",
      "metadata": {
        "id": "YDnrjPUX2s2T"
      },
      "source": [
        "# Write stations2018 to table in RDS\n",
        "stations2018.write.jdbc(url=jdbc_url, table='stations2018', mode=mode, properties=config)"
      ],
      "execution_count": null,
      "outputs": []
    },
    {
      "cell_type": "code",
      "metadata": {
        "id": "iNmQZWYa2s_o"
      },
      "source": [
        "# Write stations2019 to table in RDS\n",
        "stations2019.write.jdbc(url=jdbc_url, table='stations2019', mode=mode, properties=config)"
      ],
      "execution_count": null,
      "outputs": []
    },
    {
      "cell_type": "code",
      "metadata": {
        "id": "LYwRpE2wnIJH"
      },
      "source": [
        "# Write cleanedmaydf to table in RDS\n",
        "cleanedmaydf.write.jdbc(url=jdbc_url, table='allmay_cleaned', mode=mode, properties=config)"
      ],
      "execution_count": 8,
      "outputs": []
    },
    {
      "cell_type": "code",
      "metadata": {
        "id": "hlP8cdJVnTnp"
      },
      "source": [
        "# Write cleaned stations df to table in RDS\n",
        "cleanedstationdf.write.jdbc(url=jdbc_url, table='allstations_cleaned', mode=mode, properties=config)"
      ],
      "execution_count": 6,
      "outputs": []
    }
  ]
}